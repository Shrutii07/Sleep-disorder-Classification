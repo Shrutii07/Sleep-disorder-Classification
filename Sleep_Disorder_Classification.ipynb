{
  "cells": [
    {
      "cell_type": "markdown",
      "metadata": {
        "id": "kQkdGOM3IIcd"
      },
      "source": [
        "# CAP Phase Disease Classification"
      ]
    },
    {
      "cell_type": "code",
      "execution_count": 1,
      "metadata": {
        "colab": {
          "base_uri": "https://localhost:8080/"
        },
        "id": "LzJNqVmRr-5b",
        "outputId": "74cc5811-9a81-424a-ae68-7ef48bb69562"
      },
      "outputs": [
        {
          "output_type": "stream",
          "name": "stdout",
          "text": [
            "Mounted at /content/drive\n"
          ]
        }
      ],
      "source": [
        "from google.colab import drive\n",
        "drive.mount('/content/drive')"
      ]
    },
    {
      "cell_type": "code",
      "execution_count": 2,
      "metadata": {
        "id": "PU3yss0IwOPs"
      },
      "outputs": [],
      "source": [
        "import csv\n",
        "import pandas as pd\n",
        "import scipy.io\n",
        "import numpy as np\n",
        "import copy\n",
        "\n",
        "\n",
        "import matplotlib.pyplot as plt\n",
        "import h5py\n",
        "import scipy\n",
        "from PIL import Image\n",
        "from scipy import ndimage\n",
        "\n",
        "from tensorflow import keras\n",
        "import tensorflow as tf\n",
        "\n",
        "%matplotlib inline\n",
        "%load_ext autoreload\n",
        "%autoreload 2"
      ]
    },
    {
      "cell_type": "code",
      "source": [
        "!pip install watermark\n",
        "%load_ext watermark\n",
        "\n",
        "%watermark --iversions "
      ],
      "metadata": {
        "colab": {
          "base_uri": "https://localhost:8080/"
        },
        "id": "QsKVEMsOJr2R",
        "outputId": "c6d3d614-d37d-4c4c-b194-a72a2cf0e145"
      },
      "execution_count": 25,
      "outputs": [
        {
          "output_type": "stream",
          "name": "stdout",
          "text": [
            "numpy     : 1.21.6\n",
            "matplotlib: 3.2.2\n",
            "tensorflow: 2.8.0+zzzcolab20220506162203\n",
            "h5py      : 3.1.0\n",
            "keras     : 2.8.0\n",
            "PIL       : 7.1.2\n",
            "sklearn   : 0.0\n",
            "google    : 2.0.3\n",
            "scipy     : 1.4.1\n",
            "IPython   : 5.5.0\n",
            "pandas    : 1.3.5\n",
            "csv       : 1.0\n",
            "\n"
          ]
        }
      ]
    },
    {
      "cell_type": "markdown",
      "metadata": {
        "id": "OqSfImRo-LJB"
      },
      "source": [
        "#Healthy Unhealthy Classification"
      ]
    },
    {
      "cell_type": "code",
      "execution_count": 3,
      "metadata": {
        "id": "XrPi4rVs6W5H"
      },
      "outputs": [],
      "source": [
        "data = np.loadtxt('/content/drive/MyDrive/ML/H&U_classification/dataset/healthy_unhealthy1.csv', delimiter=',')"
      ]
    },
    {
      "cell_type": "code",
      "execution_count": null,
      "metadata": {
        "id": "wZR9RYXW6W15"
      },
      "outputs": [],
      "source": [
        "from sklearn.model_selection import train_test_split \n",
        "\n",
        "## healthy 0 unhealthy 1\n",
        "x_bal = data[:,0:1024]\n",
        "y_bal = data[:,-1]\n",
        "\n",
        "x_train1, x_test1, y_train1, y_test1 = train_test_split(x_bal, y_bal, test_size = 0.2, shuffle = True)"
      ]
    },
    {
      "cell_type": "markdown",
      "metadata": {
        "id": "AbfaOQ-W-vde"
      },
      "source": [
        "##1D CNN"
      ]
    },
    {
      "cell_type": "code",
      "execution_count": null,
      "metadata": {
        "id": "KhX3KUIyWTkt"
      },
      "outputs": [],
      "source": [
        "# GRADED FUNCTION: convolutional_model\n",
        "import tensorflow as tf\n",
        "from keras.callbacks import EarlyStopping\n",
        "import tensorflow.keras.layers as tfl\n",
        "import matplotlib.pyplot as plt\n",
        "from time import time\n",
        "\n",
        "def convolutional_model(input_shape, x_train,y_train,test_data):\n",
        "    start = time()\n",
        "    input_img = tf.keras.Input(shape=input_shape)\n",
        "    ## CONV1D: 8 filters 4x4, stride of 1, padding 'SAME'\n",
        "    Z1 = tfl.Conv1D(filters=32,\n",
        "                    kernel_size=15,\n",
        "                    strides=1,\n",
        "                    padding='same')(input_img) \n",
        "    Z11 = tfl.Conv1D(filters=16,\n",
        "                    kernel_size=7,\n",
        "                    strides=1,\n",
        "                    padding='same')(Z1)\n",
        "    ## RELU\n",
        "    A1 = tfl.ReLU()(Z11)\n",
        "    ## MAXPOOL: window 8x8, stride 8, padding 'SAME'\n",
        "    P1 = tfl.MaxPool1D(pool_size= 16,\n",
        "                       padding='same')(A1)\n",
        "\n",
        "\n",
        "    Z11 = tfl.Conv1D(filters=5,\n",
        "                    kernel_size=5,\n",
        "                    strides=1,\n",
        "                    padding='same',kernel_regularizer=tf.keras.regularizers.L2(0.01))(P1)\n",
        "    ## RELU\n",
        "    A1 = tfl.ReLU()(Z11)\n",
        "    ## MAXPOOL: window 8x8, stride 8, padding 'SAME'\n",
        "    P1 = tfl.MaxPool1D(pool_size= 4,\n",
        "                       padding='same')(A1)\n",
        "    ## CONV2D: 16 filters 2x2, stride 1, padding 'SAME'\n",
        "    Z2 = tfl.Conv1D(filters=8,\n",
        "                    kernel_size=5,\n",
        "                    strides=1,\n",
        "                    padding='same')(P1)\n",
        "    Z2=tf.nn.dropout(Z2, rate = 0.3)\n",
        "    ## RELU\n",
        "    A2 = tfl.ReLU()(Z2)\n",
        "    ## MAXPOOL: window 4x4, stride 4, padding 'SAME'\n",
        "    P2 = tfl.MaxPool1D(pool_size=8,\n",
        "                       padding='same')(A2)\n",
        "    ## FLATTEN\n",
        "    F = tfl.Flatten()(P2)\n",
        "    ## Dense layer\n",
        "\n",
        "    op1 = tfl.Dense(units=15,\n",
        "                       activation='relu', kernel_regularizer=tf.keras.regularizers.L2(0.01))(F)\n",
        "\n",
        "    #op1= tf.nn.dropout(op1, rate=0.4)\n",
        "\n",
        "    op = tfl.Dense(units=6,\n",
        "                        activation='relu')(op1)\n",
        "          \n",
        "    outputs = tfl.Dense(units=1,\n",
        "                        activation='sigmoid')(op)\n",
        "\n",
        "    model = tf.keras.Model(inputs=input_img, outputs=outputs)  \n",
        "\n",
        "    #compile\n",
        "    opt = tf.keras.optimizers.Adam( learning_rate=0.0015, beta_1=0.9, beta_2=0.999, epsilon=1e-07)\n",
        "\n",
        "    #compile\n",
        "    model.compile(optimizer = 'adam',\n",
        "                  loss='binary_crossentropy',\n",
        "              metrics=['accuracy'])\n",
        "    \n",
        "    model.summary()\n",
        "\n",
        "    early_stopping = EarlyStopping(monitor='val_loss', patience=100, verbose=2)\n",
        "    history_m = model.fit(x_train,y_train, epochs=1200, callbacks=[early_stopping], validation_split = 0.2, batch_size = 100, shuffle = True)\n",
        "\n",
        "    t=time()-start\n",
        "    print('Total training time:', t)\n",
        "    history_m.history['time']=t\n",
        "    \n",
        "    return model, history_m"
      ]
    },
    {
      "cell_type": "markdown",
      "metadata": {
        "id": "tgYj2Jd68jwd"
      },
      "source": [
        "\n",
        "\n",
        "##1D CNN with skip connections\n",
        "\n"
      ]
    },
    {
      "cell_type": "code",
      "execution_count": null,
      "metadata": {
        "id": "7fLc0wKL6W0F"
      },
      "outputs": [],
      "source": [
        "# GRADED FUNCTION: convolutional_model\n",
        "import tensorflow as tf\n",
        "from keras.callbacks import EarlyStopping\n",
        "import tensorflow.keras.layers as tfl\n",
        "import matplotlib.pyplot as plt\n",
        "from keras.layers import Dropout\n",
        "from keras.utils.vis_utils import plot_model\n",
        "from keras.layers.merge import concatenate\n",
        "from tensorflow import keras\n",
        "from time import time\n",
        "\n",
        "def convolutional_model2(input_shape, x_train,y_train,test_data):\n",
        "    i = 0\n",
        "    skips = []\n",
        "    start = time()\n",
        "    input_img = tf.keras.Input(shape=input_shape)\n",
        "    ## CONV1D: 8 filters 4x4, stride of 1, padding 'SAME'\n",
        "    Z11 = tfl.Conv1D(filters=32,\n",
        "                    kernel_size=7,\n",
        "                    strides=1,\n",
        "                    padding='same')(input_img)\n",
        "    Z12  = tfl.BatchNormalization()(Z11)\n",
        "    Z13 = tfl.ReLU()(Z12)\n",
        "    skips.append(Z13)\n",
        "\n",
        "\n",
        "    Z21 = tfl.Conv1D(filters=32,\n",
        "                    kernel_size=7,\n",
        "                    strides=1,\n",
        "                    padding='same')(Z13)\n",
        "    Z22  = tfl.BatchNormalization()(Z21)\n",
        "    Z23 = tfl.ReLU()(Z22)\n",
        "    Z24 = tfl.Conv1D(filters = 32, kernel_size = 9, strides = 1 , padding = 'same')(Z23)\n",
        "    skip = skips[i]\n",
        "    i = i+1\n",
        "    x = tfl.Concatenate()([Z24, skip])\n",
        "    skips.append(x)\n",
        "\n",
        "    \n",
        "    Z31  = tfl.BatchNormalization()(x)\n",
        "    Z32  = tfl.ReLU()(Z31)\n",
        "\n",
        "    #Z1=tf.nn.dropout(Z1, rate = 0.3)\n",
        "    Z33 = tfl.Conv1D(filters=16,\n",
        "                    kernel_size=9,\n",
        "                    strides=1,\n",
        "                    padding='same')(Z32)\n",
        "    Z34 = tfl.MaxPooling1D(pool_size = 2 , padding = 'same')(Z33)\n",
        "    Z35 = tfl.BatchNormalization()(Z34)\n",
        "    Z36 = tfl.ReLU()(Z35)\n",
        "\n",
        "    A1 = tfl.Conv1D(filters=16,\n",
        "                    kernel_size=9,\n",
        "                    strides=1,\n",
        "                    padding='same')(Z36)\n",
        "\n",
        "    Z41 = tfl.Conv1D(filters=32,\n",
        "                    kernel_size=7,\n",
        "                    strides=1,\n",
        "                    padding='same')(A1)\n",
        "    Z42  = tfl.BatchNormalization()(Z41)\n",
        "    Z43 = tfl.ReLU()(Z42)\n",
        "\n",
        "    skips.append(Z43)\n",
        "\n",
        "\n",
        "    Z51 = tfl.Conv1D(filters=32,\n",
        "                    kernel_size=7,\n",
        "                    strides=1,\n",
        "                    padding='same')(A1)\n",
        "    Z52  = tfl.BatchNormalization()(Z51)\n",
        "    Z53 = tfl.ReLU()(Z52)\n",
        "    Z54 = tfl.Conv1D(filters = 32, kernel_size = 9, strides = 1 , padding = 'same')(Z53)\n",
        "    skip = skips[2]\n",
        "    i = i+1\n",
        "    x = tfl.Concatenate()([Z54, skip])\n",
        "    skips.append(x)\n",
        "    \n",
        "    # x = tfl.Concatenate()([Z37, Z42])\n",
        "    ## RELU\n",
        "    ## MAXPOOL: window 8x8, stride 8, padding 'SAME'\n",
        "    P1 = tfl.AveragePooling1D(pool_size= 16,\n",
        "                       padding='same')(x)\n",
        "    #P1=tf.nn.dropout(P1, rate = 0.3)\n",
        "\n",
        "\n",
        "    Z1 = tfl.Conv1D(filters=32,\n",
        "                    kernel_size=9,\n",
        "                    strides=1,\n",
        "                    padding='same')(P1)\n",
        "    #Z1=tf.nn.dropout(Z1, rate = 0.3)\n",
        "    Z11 = tfl.Conv1D(filters=12,\n",
        "                    kernel_size=7,\n",
        "                    strides=1,\n",
        "                    padding='same')(Z1)\n",
        "    ## RELU\n",
        "    A1 = tfl.ReLU()(Z11)\n",
        "    ## MAXPOOL: window 8x8, stride 8, padding 'SAME'\n",
        "    P1 = tfl.MaxPooling1D(pool_size= 8,\n",
        "                       padding='same')(A1)\n",
        "   \n",
        "    ## CONV2D: 16 filters 3x3, stride 1, padding 'SAME'\n",
        "    Z2 = tfl.Conv1D(filters=16,\n",
        "                    kernel_size=5,\n",
        "                    strides=1,\n",
        "                    padding='same')(P1)\n",
        "    #Z2=tf.nn.dropout(Z2, rate = 0.4)\n",
        "    Z21 = tfl.Conv1D(filters=8,\n",
        "                    kernel_size=3,\n",
        "                    strides=1,\n",
        "                    padding='same')(Z2)\n",
        "    ## RELU\n",
        "    A2 = tfl.ReLU()(Z21)\n",
        "    ## MAXPOOL: window 4x4, stride 4, padding 'SAME'\n",
        "    P2 = tfl.MaxPooling1D(pool_size=4,\n",
        "                       padding='same')(A2)\n",
        "\n",
        "    Z3 = tfl.Conv1D(filters=8,\n",
        "                    kernel_size=5,\n",
        "                    strides=1,\n",
        "                    padding='same')(P2)\n",
        "    Z3=tf.nn.dropout(Z3, rate = 0.2)\n",
        "    Z31 = tfl.Conv1D(filters=4,\n",
        "                    kernel_size=3,\n",
        "                    strides=1,\n",
        "                    padding='same')(Z3)\n",
        "    ## RELU\n",
        "    A3 = tfl.ReLU()(Z31)\n",
        "    ## MAXPOOL: window 8x8, stride 8, padding 'SAME'\n",
        "    P3 = tfl.MaxPooling1D(pool_size= 4,\n",
        "                       padding='same')(A3)\n",
        "\n",
        "    ## FLATTEN\n",
        "    F = tfl.Flatten()(P3)\n",
        "    ## Dense layer\n",
        "    op = tfl.Dense(units=55,\n",
        "                        activation='relu')(F)\n",
        "\n",
        "    op1 = tfl.Dense(units=16,\n",
        "                        activation='relu')(F)\n",
        "\n",
        "          \n",
        "    outputs = tfl.Dense(units=1,\n",
        "                        activation='sigmoid')(op1)\n",
        "\n",
        "    model = tf.keras.Model(inputs=input_img, outputs=outputs)\n",
        "\n",
        "    #compile\n",
        "    model.compile(optimizer = 'adam',\n",
        "                  loss='binary_crossentropy',\n",
        "              metrics=['accuracy'])\n",
        "\n",
        "    model.summary()\n",
        "\n",
        "    early_stopping = EarlyStopping(monitor='val_loss', patience=30, verbose=2)\n",
        "    history_m = model.fit(x_train,y_train, epochs=150, validation_split =0.2, callbacks = [early_stopping], batch_size = 100, shuffle = True)\n",
        "\n",
        "    t=time()-start\n",
        "    print('Total training time:', t)\n",
        "    history_m.history['training_time']=t\n",
        "\n",
        "    # filepath=\"/content/drive/MyDrive/ML/Disease_classification/weights/weights-improvement-{epoch:02d}-{val_accuracy:.2f}.hdf5\"\n",
        "    # checkpoint = ModelCheckpoint(filepath, monitor='val_accuracy', verbose=1, save_best_only=True, mode='max')\n",
        "    \n",
        "    return model, history_m"
      ]
    },
    {
      "cell_type": "code",
      "execution_count": null,
      "metadata": {
        "colab": {
          "background_save": true,
          "base_uri": "https://localhost:8080/"
        },
        "id": "dmOc_vpj6Wxw",
        "outputId": "177f862b-5cdf-4b0e-96b3-fcb11e5f7971"
      },
      "outputs": [
        {
          "name": "stdout",
          "output_type": "stream",
          "text": [
            "Model: \"model\"\n",
            "__________________________________________________________________________________________________\n",
            " Layer (type)                   Output Shape         Param #     Connected to                     \n",
            "==================================================================================================\n",
            " input_1 (InputLayer)           [(None, 1024, 1)]    0           []                               \n",
            "                                                                                                  \n",
            " conv1d (Conv1D)                (None, 1024, 32)     256         ['input_1[0][0]']                \n",
            "                                                                                                  \n",
            " batch_normalization (BatchNorm  (None, 1024, 32)    128         ['conv1d[0][0]']                 \n",
            " alization)                                                                                       \n",
            "                                                                                                  \n",
            " re_lu (ReLU)                   (None, 1024, 32)     0           ['batch_normalization[0][0]']    \n",
            "                                                                                                  \n",
            " conv1d_1 (Conv1D)              (None, 1024, 32)     7200        ['re_lu[0][0]']                  \n",
            "                                                                                                  \n",
            " batch_normalization_1 (BatchNo  (None, 1024, 32)    128         ['conv1d_1[0][0]']               \n",
            " rmalization)                                                                                     \n",
            "                                                                                                  \n",
            " re_lu_1 (ReLU)                 (None, 1024, 32)     0           ['batch_normalization_1[0][0]']  \n",
            "                                                                                                  \n",
            " conv1d_2 (Conv1D)              (None, 1024, 32)     9248        ['re_lu_1[0][0]']                \n",
            "                                                                                                  \n",
            " concatenate (Concatenate)      (None, 1024, 64)     0           ['conv1d_2[0][0]',               \n",
            "                                                                  're_lu[0][0]']                  \n",
            "                                                                                                  \n",
            " batch_normalization_2 (BatchNo  (None, 1024, 64)    256         ['concatenate[0][0]']            \n",
            " rmalization)                                                                                     \n",
            "                                                                                                  \n",
            " re_lu_2 (ReLU)                 (None, 1024, 64)     0           ['batch_normalization_2[0][0]']  \n",
            "                                                                                                  \n",
            " conv1d_3 (Conv1D)              (None, 1024, 16)     9232        ['re_lu_2[0][0]']                \n",
            "                                                                                                  \n",
            " max_pooling1d (MaxPooling1D)   (None, 512, 16)      0           ['conv1d_3[0][0]']               \n",
            "                                                                                                  \n",
            " batch_normalization_3 (BatchNo  (None, 512, 16)     64          ['max_pooling1d[0][0]']          \n",
            " rmalization)                                                                                     \n",
            "                                                                                                  \n",
            " re_lu_3 (ReLU)                 (None, 512, 16)      0           ['batch_normalization_3[0][0]']  \n",
            "                                                                                                  \n",
            " conv1d_4 (Conv1D)              (None, 512, 16)      2320        ['re_lu_3[0][0]']                \n",
            "                                                                                                  \n",
            " conv1d_6 (Conv1D)              (None, 512, 32)      3616        ['conv1d_4[0][0]']               \n",
            "                                                                                                  \n",
            " batch_normalization_5 (BatchNo  (None, 512, 32)     128         ['conv1d_6[0][0]']               \n",
            " rmalization)                                                                                     \n",
            "                                                                                                  \n",
            " conv1d_5 (Conv1D)              (None, 512, 32)      3616        ['conv1d_4[0][0]']               \n",
            "                                                                                                  \n",
            " re_lu_5 (ReLU)                 (None, 512, 32)      0           ['batch_normalization_5[0][0]']  \n",
            "                                                                                                  \n",
            " batch_normalization_4 (BatchNo  (None, 512, 32)     128         ['conv1d_5[0][0]']               \n",
            " rmalization)                                                                                     \n",
            "                                                                                                  \n",
            " conv1d_7 (Conv1D)              (None, 512, 32)      9248        ['re_lu_5[0][0]']                \n",
            "                                                                                                  \n",
            " re_lu_4 (ReLU)                 (None, 512, 32)      0           ['batch_normalization_4[0][0]']  \n",
            "                                                                                                  \n",
            " concatenate_1 (Concatenate)    (None, 512, 64)      0           ['conv1d_7[0][0]',               \n",
            "                                                                  're_lu_4[0][0]']                \n",
            "                                                                                                  \n",
            " average_pooling1d (AveragePool  (None, 32, 64)      0           ['concatenate_1[0][0]']          \n",
            " ing1D)                                                                                           \n",
            "                                                                                                  \n",
            " conv1d_8 (Conv1D)              (None, 32, 32)       18464       ['average_pooling1d[0][0]']      \n",
            "                                                                                                  \n",
            " conv1d_9 (Conv1D)              (None, 32, 12)       2700        ['conv1d_8[0][0]']               \n",
            "                                                                                                  \n",
            " re_lu_6 (ReLU)                 (None, 32, 12)       0           ['conv1d_9[0][0]']               \n",
            "                                                                                                  \n",
            " max_pooling1d_1 (MaxPooling1D)  (None, 4, 12)       0           ['re_lu_6[0][0]']                \n",
            "                                                                                                  \n",
            " conv1d_10 (Conv1D)             (None, 4, 16)        976         ['max_pooling1d_1[0][0]']        \n",
            "                                                                                                  \n",
            " conv1d_11 (Conv1D)             (None, 4, 8)         392         ['conv1d_10[0][0]']              \n",
            "                                                                                                  \n",
            " re_lu_7 (ReLU)                 (None, 4, 8)         0           ['conv1d_11[0][0]']              \n",
            "                                                                                                  \n",
            " max_pooling1d_2 (MaxPooling1D)  (None, 1, 8)        0           ['re_lu_7[0][0]']                \n",
            "                                                                                                  \n",
            " conv1d_12 (Conv1D)             (None, 1, 8)         328         ['max_pooling1d_2[0][0]']        \n",
            "                                                                                                  \n",
            " tf.nn.dropout (TFOpLambda)     (None, 1, 8)         0           ['conv1d_12[0][0]']              \n",
            "                                                                                                  \n",
            " conv1d_13 (Conv1D)             (None, 1, 4)         100         ['tf.nn.dropout[0][0]']          \n",
            "                                                                                                  \n",
            " re_lu_8 (ReLU)                 (None, 1, 4)         0           ['conv1d_13[0][0]']              \n",
            "                                                                                                  \n",
            " max_pooling1d_3 (MaxPooling1D)  (None, 1, 4)        0           ['re_lu_8[0][0]']                \n",
            "                                                                                                  \n",
            " flatten (Flatten)              (None, 4)            0           ['max_pooling1d_3[0][0]']        \n",
            "                                                                                                  \n",
            " dense_1 (Dense)                (None, 16)           80          ['flatten[0][0]']                \n",
            "                                                                                                  \n",
            " dense_2 (Dense)                (None, 1)            17          ['dense_1[0][0]']                \n",
            "                                                                                                  \n",
            "==================================================================================================\n",
            "Total params: 68,625\n",
            "Trainable params: 68,209\n",
            "Non-trainable params: 416\n",
            "__________________________________________________________________________________________________\n",
            "Epoch 1/150\n",
            "120/120 [==============================] - 158s 1s/step - loss: 0.6935 - accuracy: 0.4946 - val_loss: 0.6931 - val_accuracy: 0.4973\n",
            "Epoch 2/150\n",
            "120/120 [==============================] - 156s 1s/step - loss: 0.6932 - accuracy: 0.5016 - val_loss: 0.6932 - val_accuracy: 0.4950\n",
            "Epoch 3/150\n",
            "120/120 [==============================] - 156s 1s/step - loss: 0.6931 - accuracy: 0.5021 - val_loss: 0.6923 - val_accuracy: 0.5027\n",
            "Epoch 4/150\n",
            "120/120 [==============================] - 154s 1s/step - loss: 0.6933 - accuracy: 0.5027 - val_loss: 0.6930 - val_accuracy: 0.5003\n",
            "Epoch 5/150\n",
            "120/120 [==============================] - 154s 1s/step - loss: 0.6931 - accuracy: 0.4996 - val_loss: 0.6975 - val_accuracy: 0.5000\n",
            "Epoch 6/150\n",
            "120/120 [==============================] - 153s 1s/step - loss: 0.6928 - accuracy: 0.5030 - val_loss: 0.6925 - val_accuracy: 0.5037\n",
            "Epoch 7/150\n",
            "120/120 [==============================] - 153s 1s/step - loss: 0.6928 - accuracy: 0.5079 - val_loss: 0.6934 - val_accuracy: 0.4966\n",
            "Epoch 8/150\n",
            "120/120 [==============================] - 154s 1s/step - loss: 0.6928 - accuracy: 0.5046 - val_loss: 0.6949 - val_accuracy: 0.5057\n",
            "Epoch 9/150\n",
            "120/120 [==============================] - 153s 1s/step - loss: 0.6928 - accuracy: 0.5074 - val_loss: 0.6918 - val_accuracy: 0.5114\n",
            "Epoch 10/150\n",
            "120/120 [==============================] - 156s 1s/step - loss: 0.6928 - accuracy: 0.5093 - val_loss: 0.6920 - val_accuracy: 0.5064\n",
            "Epoch 11/150\n",
            "120/120 [==============================] - 155s 1s/step - loss: 0.6926 - accuracy: 0.5087 - val_loss: 0.6959 - val_accuracy: 0.5054\n",
            "Epoch 12/150\n",
            "120/120 [==============================] - 155s 1s/step - loss: 0.6928 - accuracy: 0.5050 - val_loss: 0.6916 - val_accuracy: 0.5074\n",
            "Epoch 13/150\n",
            "120/120 [==============================] - 155s 1s/step - loss: 0.6921 - accuracy: 0.5163 - val_loss: 0.7022 - val_accuracy: 0.5050\n",
            "Epoch 14/150\n",
            "120/120 [==============================] - 157s 1s/step - loss: 0.6929 - accuracy: 0.5096 - val_loss: 0.6912 - val_accuracy: 0.5071\n",
            "Epoch 15/150\n",
            "120/120 [==============================] - 154s 1s/step - loss: 0.6929 - accuracy: 0.5101 - val_loss: 0.6921 - val_accuracy: 0.5071\n",
            "Epoch 16/150\n",
            "120/120 [==============================] - 153s 1s/step - loss: 0.6871 - accuracy: 0.5341 - val_loss: 0.6835 - val_accuracy: 0.5554\n",
            "Epoch 17/150\n",
            "120/120 [==============================] - 154s 1s/step - loss: 0.6786 - accuracy: 0.5621 - val_loss: 0.6755 - val_accuracy: 0.5709\n",
            "Epoch 18/150\n",
            "120/120 [==============================] - 153s 1s/step - loss: 0.6738 - accuracy: 0.5762 - val_loss: 0.6733 - val_accuracy: 0.5578\n",
            "Epoch 19/150\n",
            "120/120 [==============================] - 154s 1s/step - loss: 0.6756 - accuracy: 0.5666 - val_loss: 0.6607 - val_accuracy: 0.5857\n",
            "Epoch 20/150\n",
            "120/120 [==============================] - 154s 1s/step - loss: 0.6672 - accuracy: 0.5776 - val_loss: 0.6572 - val_accuracy: 0.5978\n",
            "Epoch 21/150\n",
            "120/120 [==============================] - 153s 1s/step - loss: 0.6625 - accuracy: 0.5927 - val_loss: 0.6590 - val_accuracy: 0.6089\n",
            "Epoch 22/150\n",
            "120/120 [==============================] - 154s 1s/step - loss: 0.6620 - accuracy: 0.5945 - val_loss: 0.6527 - val_accuracy: 0.5985\n",
            "Epoch 23/150\n",
            "120/120 [==============================] - 155s 1s/step - loss: 0.6534 - accuracy: 0.6048 - val_loss: 0.6677 - val_accuracy: 0.5813\n",
            "Epoch 24/150\n",
            "120/120 [==============================] - 154s 1s/step - loss: 0.6483 - accuracy: 0.6158 - val_loss: 0.6427 - val_accuracy: 0.6065\n",
            "Epoch 25/150\n",
            "120/120 [==============================] - 154s 1s/step - loss: 0.6396 - accuracy: 0.6274 - val_loss: 0.6360 - val_accuracy: 0.6324\n",
            "Epoch 26/150\n",
            "120/120 [==============================] - 155s 1s/step - loss: 0.6318 - accuracy: 0.6338 - val_loss: 0.6462 - val_accuracy: 0.6106\n",
            "Epoch 27/150\n",
            "120/120 [==============================] - 157s 1s/step - loss: 0.6257 - accuracy: 0.6436 - val_loss: 0.6264 - val_accuracy: 0.6465\n",
            "Epoch 28/150\n",
            "120/120 [==============================] - 155s 1s/step - loss: 0.6087 - accuracy: 0.6678 - val_loss: 0.7695 - val_accuracy: 0.5642\n",
            "Epoch 29/150\n",
            "120/120 [==============================] - 153s 1s/step - loss: 0.6045 - accuracy: 0.6719 - val_loss: 0.7045 - val_accuracy: 0.6035\n",
            "Epoch 30/150\n",
            "120/120 [==============================] - 154s 1s/step - loss: 0.5995 - accuracy: 0.6830 - val_loss: 0.6135 - val_accuracy: 0.6647\n",
            "Epoch 31/150\n",
            "120/120 [==============================] - 155s 1s/step - loss: 0.5896 - accuracy: 0.6887 - val_loss: 0.6017 - val_accuracy: 0.6724\n",
            "Epoch 32/150\n",
            "120/120 [==============================] - 153s 1s/step - loss: 0.5823 - accuracy: 0.6939 - val_loss: 0.6073 - val_accuracy: 0.6764\n",
            "Epoch 33/150\n",
            "120/120 [==============================] - 153s 1s/step - loss: 0.5742 - accuracy: 0.7014 - val_loss: 0.8211 - val_accuracy: 0.6008\n",
            "Epoch 34/150\n",
            "120/120 [==============================] - 154s 1s/step - loss: 0.5578 - accuracy: 0.7165 - val_loss: 0.5964 - val_accuracy: 0.6818\n",
            "Epoch 35/150\n",
            "120/120 [==============================] - 153s 1s/step - loss: 0.5455 - accuracy: 0.7240 - val_loss: 0.6464 - val_accuracy: 0.6253\n",
            "Epoch 36/150\n",
            "120/120 [==============================] - 154s 1s/step - loss: 0.5301 - accuracy: 0.7320 - val_loss: 0.5608 - val_accuracy: 0.7144\n",
            "Epoch 37/150\n",
            "120/120 [==============================] - 155s 1s/step - loss: 0.5356 - accuracy: 0.7336 - val_loss: 0.5604 - val_accuracy: 0.7295\n",
            "Epoch 38/150\n",
            "120/120 [==============================] - 154s 1s/step - loss: 0.4924 - accuracy: 0.7613 - val_loss: 0.4917 - val_accuracy: 0.7651\n",
            "Epoch 39/150\n",
            "120/120 [==============================] - 154s 1s/step - loss: 0.4910 - accuracy: 0.7605 - val_loss: 0.5281 - val_accuracy: 0.7487\n",
            "Epoch 40/150\n",
            "120/120 [==============================] - 154s 1s/step - loss: 0.4669 - accuracy: 0.7797 - val_loss: 0.4766 - val_accuracy: 0.7789\n",
            "Epoch 41/150\n",
            "120/120 [==============================] - 154s 1s/step - loss: 0.4586 - accuracy: 0.7851 - val_loss: 0.4799 - val_accuracy: 0.7829\n",
            "Epoch 42/150\n",
            "120/120 [==============================] - 155s 1s/step - loss: 0.4455 - accuracy: 0.7909 - val_loss: 0.4855 - val_accuracy: 0.7860\n",
            "Epoch 43/150\n",
            "120/120 [==============================] - 154s 1s/step - loss: 0.4437 - accuracy: 0.7912 - val_loss: 0.4808 - val_accuracy: 0.7665\n",
            "Epoch 44/150\n",
            "120/120 [==============================] - 154s 1s/step - loss: 0.5367 - accuracy: 0.7280 - val_loss: 0.5877 - val_accuracy: 0.6939\n",
            "Epoch 45/150\n",
            "120/120 [==============================] - 155s 1s/step - loss: 0.4537 - accuracy: 0.7901 - val_loss: 0.5061 - val_accuracy: 0.7500\n",
            "Epoch 46/150\n",
            "120/120 [==============================] - 154s 1s/step - loss: 0.4633 - accuracy: 0.7849 - val_loss: 0.4767 - val_accuracy: 0.7765\n",
            "Epoch 47/150\n",
            " 79/120 [==================>...........] - ETA: 51s - loss: 0.4318 - accuracy: 0.8038"
          ]
        }
      ],
      "source": [
        "conv_model, history_m = convolutional_model2((1024,1), x_train1, y_train1, (x_test1, y_test1))"
      ]
    },
    {
      "cell_type": "code",
      "execution_count": null,
      "metadata": {
        "id": "RGepBJA_wLmh"
      },
      "outputs": [],
      "source": [
        "conv_model.save('/content/drive/MyDrive/ML/H&U_classification/skip/model_v1.h5')\n",
        "np.save('/content/drive/MyDrive/ML/H&U_classification/skip/ver1_history.npy',history_m)\n",
        "\n",
        "# save testdata to csv file\n",
        "np.savetxt('/content/drive/MyDrive/ML/H&U_classification/skip/xtest_data_ver1.csv', x_test1, delimiter=',')\n",
        "np.savetxt('/content/drive/MyDrive/ML/H&U_classification/skip/ytest_data_ver1.csv', y_test1, delimiter=',')\n",
        "np.savetxt('/content/drive/MyDrive/ML/H&U_classification/skip/xtrain_data_ver1.csv', x_train1, delimiter=',')\n",
        "np.savetxt('/content/drive/MyDrive/ML/H&U_classification/skip/ytrain_data_ver1.csv', y_train1, delimiter=',')"
      ]
    },
    {
      "cell_type": "code",
      "execution_count": null,
      "metadata": {
        "id": "ePXlwzbc8-by"
      },
      "outputs": [],
      "source": [
        "from tensorflow import keras\n",
        "model1 = keras.models.load_model(\"model_skip_HU (1).h5\")\n"
      ]
    },
    {
      "cell_type": "code",
      "execution_count": null,
      "metadata": {
        "colab": {
          "base_uri": "https://localhost:8080/",
          "height": 476
        },
        "id": "QDCjaJzZ6Wup",
        "outputId": "40187982-5360-4f7a-ffba-5934f6f916b8"
      },
      "outputs": [
        {
          "name": "stdout",
          "output_type": "stream",
          "text": [
            "117/117 - 1s - 1s/epoch - 9ms/step\n",
            "Accuracy: 0.865932\n",
            "Specificity: 0.844127\n",
            "Precision: 0.855764\n",
            "Sensitivity: 0.886842\n",
            "F1 score: 0.871026\n",
            "Cohens kappa: 0.731538\n",
            "ROC AUC: 0.942347\n",
            "Total Samples Test:  3722\n",
            "[[1538  284]\n",
            " [ 215 1685]]\n"
          ]
        },
        {
          "data": {
            "image/png": "[encoded data removed]",
            "text/plain": [
              "<Figure size 432x288 with 2 Axes>"
            ]
          },
          "metadata": {},
          "output_type": "display_data"
        }
      ],
      "source": [
        "import matplotlib.pyplot as plt\n",
        "from sklearn import metrics\n",
        "\n",
        "prob = model1.predict(x_test1,verbose = 2)\n",
        "pred = (prob > 0.5).astype(\"int32\")\n",
        "\n",
        "\n",
        "#(loss, acc) = conv_model.evaluate(x_test1, y_test1)\n",
        "#print(\"Accuracy\", acc*100)\n",
        "\n",
        "\n",
        "# reduce to 1d array\n",
        "yhat_probs = prob[:, 0]\n",
        "yhat_classes = pred[:, 0]\n",
        " \n",
        "cm= metrics.confusion_matrix(y_test1,pred)\n",
        "# accuracy: (tp + tn) / (p + n)\n",
        "accuracy = metrics.accuracy_score(y_test1,pred)\n",
        "print('Accuracy: %f' % accuracy)\n",
        "# sensitivity = tp(tp+fn)\n",
        "#sensitivity = metrics.specificity_score(y_test1, pred)\n",
        "# specificity = tn(tn+fp)\n",
        "specificity = cm[0,0]/(cm[0,0]+cm[0,1])\n",
        "print('Specificity: %f' % specificity)\n",
        "# precision tp / (tp + fp)\n",
        "precision = metrics.precision_score(y_test1,pred)\n",
        "print('Precision: %f' % precision)\n",
        "# recall/sensitivity: tp / (tp + fn)\n",
        "recall = metrics.recall_score(y_test1, pred)\n",
        "print('Sensitivity: %f' % recall)\n",
        "# f1: 2 tp / (2 tp + fp + fn)\n",
        "f1 = metrics.f1_score(y_test1, pred)\n",
        "print('F1 score: %f' % f1)\n",
        "# kappa\n",
        "kappa = metrics.cohen_kappa_score(y_test1, pred)\n",
        "print('Cohens kappa: %f' % kappa)\n",
        "# ROC AUC\n",
        "auc = metrics.roc_auc_score(y_test1, prob)\n",
        "print('ROC AUC: %f' % auc)\n",
        "\n",
        "print(\"Total Samples Test: \", np.shape(y_test1)[0])\n",
        "labels=[\"Healthy\", \"Unhealthy\"]\n",
        "cm=metrics.confusion_matrix(y_test1,pred)\n",
        "disp = metrics.ConfusionMatrixDisplay(confusion_matrix=cm, display_labels=labels)      \n",
        "disp.plot()\n",
        "plt.savefig('confusion_matrix_healthy_skip.pdf')\n",
        "print(cm)"
      ]
    },
    {
      "cell_type": "markdown",
      "metadata": {
        "id": "-sWF8fFV-0PG"
      },
      "source": [
        "##LSTM model"
      ]
    },
    {
      "cell_type": "code",
      "execution_count": null,
      "metadata": {
        "colab": {
          "base_uri": "https://localhost:8080/"
        },
        "id": "3ZV9j3_LD7BU",
        "outputId": "21951e51-000a-4f3b-91ea-e5ea7817348f"
      },
      "outputs": [
        {
          "name": "stdout",
          "output_type": "stream",
          "text": [
            "Model: \"sequential_3\"\n",
            "_________________________________________________________________\n",
            " Layer (type)                Output Shape              Param #   \n",
            "=================================================================\n",
            " conv1d_9 (Conv1D)           (None, 1024, 32)          256       \n",
            "                                                                 \n",
            " conv1d_10 (Conv1D)          (None, 1024, 16)          4624      \n",
            "                                                                 \n",
            " conv1d_11 (Conv1D)          (None, 1024, 32)          2592      \n",
            "                                                                 \n",
            " lstm_3 (LSTM)               (None, 100)               53200     \n",
            "                                                                 \n",
            " dense_3 (Dense)             (None, 1)                 101       \n",
            "                                                                 \n",
            "=================================================================\n",
            "Total params: 60,773\n",
            "Trainable params: 60,773\n",
            "Non-trainable params: 0\n",
            "_________________________________________________________________\n",
            "None\n",
            "Epoch 1/150\n",
            "60/60 [==============================] - 7s 92ms/step - loss: 0.7014 - accuracy: 0.5013 - val_loss: 0.6948 - val_accuracy: 0.5094\n",
            "Epoch 2/150\n",
            "60/60 [==============================] - 6s 95ms/step - loss: 0.6969 - accuracy: 0.5089 - val_loss: 0.6954 - val_accuracy: 0.5013\n",
            "Epoch 3/150\n",
            "60/60 [==============================] - 5s 91ms/step - loss: 0.6938 - accuracy: 0.5250 - val_loss: 0.7009 - val_accuracy: 0.5087\n",
            "Epoch 4/150\n",
            "60/60 [==============================] - 5s 86ms/step - loss: 0.6924 - accuracy: 0.5175 - val_loss: 0.6932 - val_accuracy: 0.5121\n",
            "Epoch 5/150\n",
            "60/60 [==============================] - 4s 63ms/step - loss: 0.6900 - accuracy: 0.5265 - val_loss: 0.6976 - val_accuracy: 0.5074\n",
            "Epoch 6/150\n",
            "60/60 [==============================] - 4s 64ms/step - loss: 0.6917 - accuracy: 0.5213 - val_loss: 0.6977 - val_accuracy: 0.4906\n",
            "Epoch 7/150\n",
            "60/60 [==============================] - 4s 69ms/step - loss: 0.6937 - accuracy: 0.5190 - val_loss: 0.6936 - val_accuracy: 0.5121\n",
            "Epoch 8/150\n",
            "60/60 [==============================] - 4s 63ms/step - loss: 0.6924 - accuracy: 0.5213 - val_loss: 0.7007 - val_accuracy: 0.4933\n",
            "Epoch 9/150\n",
            "60/60 [==============================] - 4s 64ms/step - loss: 0.6951 - accuracy: 0.5153 - val_loss: 0.6951 - val_accuracy: 0.4987\n",
            "Epoch 10/150\n",
            "60/60 [==============================] - 4s 64ms/step - loss: 0.6918 - accuracy: 0.5188 - val_loss: 0.6975 - val_accuracy: 0.5128\n",
            "Epoch 11/150\n",
            "60/60 [==============================] - 4s 64ms/step - loss: 0.6909 - accuracy: 0.5252 - val_loss: 0.6950 - val_accuracy: 0.5134\n",
            "Epoch 12/150\n",
            "60/60 [==============================] - 4s 64ms/step - loss: 0.6894 - accuracy: 0.5250 - val_loss: 0.6939 - val_accuracy: 0.5215\n",
            "Epoch 13/150\n",
            "60/60 [==============================] - 4s 64ms/step - loss: 0.6886 - accuracy: 0.5306 - val_loss: 0.7010 - val_accuracy: 0.5027\n",
            "Epoch 14/150\n",
            "60/60 [==============================] - 4s 64ms/step - loss: 0.6885 - accuracy: 0.5302 - val_loss: 0.6962 - val_accuracy: 0.5249\n",
            "Epoch 15/150\n",
            "60/60 [==============================] - 4s 64ms/step - loss: 0.6867 - accuracy: 0.5378 - val_loss: 0.6953 - val_accuracy: 0.5134\n",
            "Epoch 16/150\n",
            "60/60 [==============================] - 4s 64ms/step - loss: 0.6852 - accuracy: 0.5402 - val_loss: 0.6982 - val_accuracy: 0.4899\n",
            "Epoch 17/150\n",
            "60/60 [==============================] - 4s 64ms/step - loss: 0.6849 - accuracy: 0.5459 - val_loss: 0.6910 - val_accuracy: 0.5390\n",
            "Epoch 18/150\n",
            "60/60 [==============================] - 4s 64ms/step - loss: 0.6866 - accuracy: 0.5328 - val_loss: 0.6969 - val_accuracy: 0.5108\n",
            "Epoch 19/150\n",
            "60/60 [==============================] - 4s 64ms/step - loss: 0.6849 - accuracy: 0.5380 - val_loss: 0.6991 - val_accuracy: 0.5108\n",
            "Epoch 20/150\n",
            "60/60 [==============================] - 4s 64ms/step - loss: 0.6832 - accuracy: 0.5449 - val_loss: 0.6998 - val_accuracy: 0.5161\n",
            "Epoch 21/150\n",
            "60/60 [==============================] - 4s 65ms/step - loss: 0.6816 - accuracy: 0.5477 - val_loss: 0.7034 - val_accuracy: 0.5108\n",
            "Epoch 22/150\n",
            "60/60 [==============================] - 4s 64ms/step - loss: 0.6806 - accuracy: 0.5507 - val_loss: 0.6922 - val_accuracy: 0.5457\n",
            "Epoch 23/150\n",
            "60/60 [==============================] - 4s 65ms/step - loss: 0.6759 - accuracy: 0.5674 - val_loss: 0.6866 - val_accuracy: 0.5652\n",
            "Epoch 24/150\n",
            "60/60 [==============================] - 4s 64ms/step - loss: 0.6724 - accuracy: 0.5754 - val_loss: 0.6894 - val_accuracy: 0.5491\n",
            "Epoch 25/150\n",
            "60/60 [==============================] - 4s 64ms/step - loss: 0.6708 - accuracy: 0.5733 - val_loss: 0.6895 - val_accuracy: 0.5591\n",
            "Epoch 26/150\n",
            "60/60 [==============================] - 4s 63ms/step - loss: 0.6711 - accuracy: 0.5813 - val_loss: 0.6861 - val_accuracy: 0.5470\n",
            "Epoch 27/150\n",
            "60/60 [==============================] - 4s 70ms/step - loss: 0.6669 - accuracy: 0.6006 - val_loss: 0.6747 - val_accuracy: 0.5934\n",
            "Epoch 28/150\n",
            "60/60 [==============================] - 4s 64ms/step - loss: 0.6550 - accuracy: 0.6173 - val_loss: 0.7196 - val_accuracy: 0.4973\n",
            "Epoch 29/150\n",
            "60/60 [==============================] - 4s 69ms/step - loss: 0.6909 - accuracy: 0.5239 - val_loss: 0.6953 - val_accuracy: 0.5181\n",
            "Epoch 30/150\n",
            "60/60 [==============================] - 4s 65ms/step - loss: 0.6822 - accuracy: 0.5486 - val_loss: 0.6978 - val_accuracy: 0.5235\n",
            "Epoch 31/150\n",
            "60/60 [==============================] - 4s 64ms/step - loss: 0.6770 - accuracy: 0.5642 - val_loss: 0.6991 - val_accuracy: 0.5242\n",
            "Epoch 32/150\n",
            "60/60 [==============================] - 4s 64ms/step - loss: 0.6682 - accuracy: 0.5828 - val_loss: 0.6825 - val_accuracy: 0.5806\n",
            "Epoch 33/150\n",
            "60/60 [==============================] - 4s 64ms/step - loss: 0.6668 - accuracy: 0.5859 - val_loss: 0.6867 - val_accuracy: 0.5652\n",
            "Epoch 34/150\n",
            "60/60 [==============================] - 4s 64ms/step - loss: 0.6511 - accuracy: 0.6193 - val_loss: 0.6646 - val_accuracy: 0.6156\n",
            "Epoch 35/150\n",
            "60/60 [==============================] - 4s 65ms/step - loss: 0.6354 - accuracy: 0.6482 - val_loss: 0.6517 - val_accuracy: 0.6445\n",
            "Epoch 36/150\n",
            "60/60 [==============================] - 4s 64ms/step - loss: 0.6473 - accuracy: 0.6159 - val_loss: 0.7041 - val_accuracy: 0.5188\n",
            "Epoch 37/150\n",
            "60/60 [==============================] - 4s 69ms/step - loss: 0.6864 - accuracy: 0.5420 - val_loss: 0.6913 - val_accuracy: 0.5585\n",
            "Epoch 38/150\n",
            "60/60 [==============================] - 4s 65ms/step - loss: 0.6678 - accuracy: 0.5875 - val_loss: 0.6559 - val_accuracy: 0.6324\n",
            "Epoch 39/150\n",
            "60/60 [==============================] - 4s 65ms/step - loss: 0.6366 - accuracy: 0.6529 - val_loss: 0.6282 - val_accuracy: 0.6680\n",
            "Epoch 40/150\n",
            "60/60 [==============================] - 4s 64ms/step - loss: 0.6122 - accuracy: 0.6784 - val_loss: 0.6209 - val_accuracy: 0.6700\n",
            "Epoch 41/150\n",
            "60/60 [==============================] - 4s 64ms/step - loss: 0.5957 - accuracy: 0.6966 - val_loss: 0.6041 - val_accuracy: 0.6935\n",
            "Epoch 42/150\n",
            "60/60 [==============================] - 4s 64ms/step - loss: 0.5918 - accuracy: 0.7026 - val_loss: 0.5926 - val_accuracy: 0.7030\n",
            "Epoch 43/150\n",
            "60/60 [==============================] - 4s 64ms/step - loss: 0.5894 - accuracy: 0.7078 - val_loss: 0.5933 - val_accuracy: 0.7097\n",
            "Epoch 44/150\n",
            "60/60 [==============================] - 4s 64ms/step - loss: 0.6048 - accuracy: 0.6811 - val_loss: 0.5978 - val_accuracy: 0.6976\n",
            "Epoch 45/150\n",
            "60/60 [==============================] - 4s 64ms/step - loss: 0.5719 - accuracy: 0.7196 - val_loss: 0.5903 - val_accuracy: 0.7056\n",
            "Epoch 46/150\n",
            "60/60 [==============================] - 4s 65ms/step - loss: 0.5737 - accuracy: 0.7167 - val_loss: 0.5873 - val_accuracy: 0.7036\n",
            "Epoch 47/150\n",
            "60/60 [==============================] - 4s 64ms/step - loss: 0.5541 - accuracy: 0.7314 - val_loss: 0.5769 - val_accuracy: 0.7144\n",
            "Epoch 48/150\n",
            "60/60 [==============================] - 4s 64ms/step - loss: 0.5652 - accuracy: 0.7216 - val_loss: 0.5964 - val_accuracy: 0.6976\n",
            "Epoch 49/150\n",
            "60/60 [==============================] - 4s 64ms/step - loss: 0.5502 - accuracy: 0.7231 - val_loss: 0.5815 - val_accuracy: 0.6915\n",
            "Epoch 50/150\n",
            "60/60 [==============================] - 4s 65ms/step - loss: 0.5392 - accuracy: 0.7359 - val_loss: 0.5696 - val_accuracy: 0.7110\n",
            "Epoch 51/150\n",
            "60/60 [==============================] - 4s 70ms/step - loss: 0.5497 - accuracy: 0.7303 - val_loss: 0.5687 - val_accuracy: 0.7245\n",
            "Epoch 52/150\n",
            "60/60 [==============================] - 4s 64ms/step - loss: 0.5604 - accuracy: 0.7213 - val_loss: 0.5991 - val_accuracy: 0.6942\n",
            "Epoch 53/150\n",
            "60/60 [==============================] - 4s 69ms/step - loss: 0.5622 - accuracy: 0.7209 - val_loss: 0.5825 - val_accuracy: 0.7023\n",
            "Epoch 54/150\n",
            "60/60 [==============================] - 4s 65ms/step - loss: 0.5387 - accuracy: 0.7399 - val_loss: 0.5766 - val_accuracy: 0.7063\n",
            "Epoch 55/150\n",
            "60/60 [==============================] - 4s 64ms/step - loss: 0.5313 - accuracy: 0.7372 - val_loss: 0.5731 - val_accuracy: 0.7191\n",
            "Epoch 56/150\n",
            "60/60 [==============================] - 4s 64ms/step - loss: 0.5258 - accuracy: 0.7377 - val_loss: 0.5892 - val_accuracy: 0.7171\n",
            "Epoch 57/150\n",
            "60/60 [==============================] - 4s 64ms/step - loss: 0.5380 - accuracy: 0.7337 - val_loss: 0.5740 - val_accuracy: 0.7083\n",
            "Epoch 58/150\n",
            "60/60 [==============================] - 4s 64ms/step - loss: 0.5455 - accuracy: 0.7285 - val_loss: 0.5685 - val_accuracy: 0.7124\n",
            "Epoch 59/150\n",
            "60/60 [==============================] - 4s 64ms/step - loss: 0.5096 - accuracy: 0.7524 - val_loss: 0.5598 - val_accuracy: 0.7117\n",
            "Epoch 60/150\n",
            "60/60 [==============================] - 4s 65ms/step - loss: 0.4936 - accuracy: 0.7579 - val_loss: 0.5512 - val_accuracy: 0.7312\n",
            "Epoch 61/150\n",
            "60/60 [==============================] - 4s 64ms/step - loss: 0.4926 - accuracy: 0.7656 - val_loss: 0.5567 - val_accuracy: 0.7278\n",
            "Epoch 62/150\n",
            "60/60 [==============================] - 4s 65ms/step - loss: 0.4896 - accuracy: 0.7633 - val_loss: 0.5415 - val_accuracy: 0.7359\n",
            "Epoch 63/150\n",
            "60/60 [==============================] - 4s 64ms/step - loss: 0.4793 - accuracy: 0.7707 - val_loss: 0.5420 - val_accuracy: 0.7339\n",
            "Epoch 64/150\n",
            "60/60 [==============================] - 4s 70ms/step - loss: 0.4699 - accuracy: 0.7781 - val_loss: 0.5221 - val_accuracy: 0.7379\n",
            "Epoch 65/150\n",
            "60/60 [==============================] - 4s 65ms/step - loss: 0.4535 - accuracy: 0.7888 - val_loss: 0.5299 - val_accuracy: 0.7473\n",
            "Epoch 66/150\n",
            "60/60 [==============================] - 4s 64ms/step - loss: 0.4501 - accuracy: 0.7915 - val_loss: 0.5561 - val_accuracy: 0.7245\n",
            "Epoch 67/150\n",
            "60/60 [==============================] - 4s 65ms/step - loss: 0.4339 - accuracy: 0.8039 - val_loss: 0.5298 - val_accuracy: 0.7493\n",
            "Epoch 68/150\n",
            "60/60 [==============================] - 4s 70ms/step - loss: 0.4316 - accuracy: 0.8081 - val_loss: 0.5318 - val_accuracy: 0.7339\n",
            "Epoch 69/150\n",
            "60/60 [==============================] - 4s 70ms/step - loss: 0.4126 - accuracy: 0.8207 - val_loss: 0.5150 - val_accuracy: 0.7608\n",
            "Epoch 70/150\n",
            "60/60 [==============================] - 4s 64ms/step - loss: 0.4084 - accuracy: 0.8189 - val_loss: 0.5334 - val_accuracy: 0.7392\n",
            "Epoch 71/150\n",
            "60/60 [==============================] - 4s 64ms/step - loss: 0.4128 - accuracy: 0.8169 - val_loss: 0.5290 - val_accuracy: 0.7372\n",
            "Epoch 72/150\n",
            "60/60 [==============================] - 4s 69ms/step - loss: 0.3974 - accuracy: 0.8239 - val_loss: 0.5300 - val_accuracy: 0.7567\n",
            "Epoch 73/150\n",
            "60/60 [==============================] - 4s 65ms/step - loss: 0.3789 - accuracy: 0.8390 - val_loss: 0.5283 - val_accuracy: 0.7628\n",
            "Epoch 74/150\n",
            "60/60 [==============================] - 4s 69ms/step - loss: 0.3742 - accuracy: 0.8372 - val_loss: 0.5423 - val_accuracy: 0.7554\n",
            "Epoch 75/150\n",
            "60/60 [==============================] - 4s 65ms/step - loss: 0.3648 - accuracy: 0.8448 - val_loss: 0.5294 - val_accuracy: 0.7534\n",
            "Epoch 76/150\n",
            "60/60 [==============================] - 4s 64ms/step - loss: 0.3505 - accuracy: 0.8518 - val_loss: 0.6051 - val_accuracy: 0.7238\n",
            "Epoch 77/150\n",
            "60/60 [==============================] - 4s 64ms/step - loss: 0.3521 - accuracy: 0.8506 - val_loss: 0.5470 - val_accuracy: 0.7379\n",
            "Epoch 78/150\n",
            "60/60 [==============================] - 4s 64ms/step - loss: 0.3450 - accuracy: 0.8548 - val_loss: 0.5516 - val_accuracy: 0.7614\n",
            "Epoch 79/150\n",
            "60/60 [==============================] - 4s 64ms/step - loss: 0.3190 - accuracy: 0.8679 - val_loss: 0.5359 - val_accuracy: 0.7601\n",
            "Epoch 80/150\n",
            "60/60 [==============================] - 4s 68ms/step - loss: 0.3283 - accuracy: 0.8666 - val_loss: 0.5663 - val_accuracy: 0.7258\n",
            "Epoch 81/150\n",
            "60/60 [==============================] - 6s 105ms/step - loss: 0.3248 - accuracy: 0.8632 - val_loss: 0.5394 - val_accuracy: 0.7581\n",
            "Epoch 82/150\n",
            "60/60 [==============================] - 4s 65ms/step - loss: 0.2979 - accuracy: 0.8799 - val_loss: 0.5611 - val_accuracy: 0.7372\n",
            "Epoch 83/150\n",
            "60/60 [==============================] - 4s 70ms/step - loss: 0.2905 - accuracy: 0.8859 - val_loss: 0.5492 - val_accuracy: 0.7675\n",
            "Epoch 84/150\n",
            "60/60 [==============================] - 4s 65ms/step - loss: 0.2995 - accuracy: 0.8777 - val_loss: 0.5598 - val_accuracy: 0.7581\n",
            "Epoch 85/150\n",
            "60/60 [==============================] - 4s 65ms/step - loss: 0.2765 - accuracy: 0.8930 - val_loss: 0.5670 - val_accuracy: 0.7581\n",
            "Epoch 86/150\n",
            "60/60 [==============================] - 4s 65ms/step - loss: 0.2644 - accuracy: 0.8957 - val_loss: 0.5742 - val_accuracy: 0.7574\n",
            "Epoch 87/150\n",
            "60/60 [==============================] - 4s 64ms/step - loss: 0.2560 - accuracy: 0.9004 - val_loss: 0.6015 - val_accuracy: 0.7493\n",
            "Epoch 88/150\n",
            "60/60 [==============================] - 4s 64ms/step - loss: 0.2530 - accuracy: 0.9017 - val_loss: 0.5943 - val_accuracy: 0.7574\n",
            "Epoch 89/150\n",
            "60/60 [==============================] - 4s 65ms/step - loss: 0.2469 - accuracy: 0.9009 - val_loss: 0.5781 - val_accuracy: 0.7547\n",
            "Epoch 90/150\n",
            "60/60 [==============================] - 4s 64ms/step - loss: 0.2231 - accuracy: 0.9178 - val_loss: 0.5996 - val_accuracy: 0.7480\n",
            "Epoch 91/150\n",
            "60/60 [==============================] - 4s 65ms/step - loss: 0.2275 - accuracy: 0.9155 - val_loss: 0.6554 - val_accuracy: 0.7366\n",
            "Epoch 92/150\n",
            "60/60 [==============================] - 4s 64ms/step - loss: 0.2337 - accuracy: 0.9094 - val_loss: 0.5961 - val_accuracy: 0.7547\n",
            "Epoch 93/150\n",
            "60/60 [==============================] - 4s 70ms/step - loss: 0.2155 - accuracy: 0.9224 - val_loss: 0.6276 - val_accuracy: 0.7527\n",
            "Epoch 94/150\n",
            "60/60 [==============================] - 4s 65ms/step - loss: 0.2086 - accuracy: 0.9229 - val_loss: 0.6136 - val_accuracy: 0.7379\n",
            "Epoch 94: early stopping\n",
            "Total training time: 377.52228331565857\n"
          ]
        }
      ],
      "source": [
        "import numpy\n",
        "from keras.datasets import imdb\n",
        "from keras.models import Sequential\n",
        "from keras.layers import Dense\n",
        "from keras.layers import LSTM\n",
        "from keras.layers.embeddings import Embedding\n",
        "from keras.preprocessing import sequence\n",
        "# fix random seed for reproducibility\n",
        "numpy.random.seed(7)\n",
        "\n",
        "# LSTM and CNN for sequence classification in the IMDB dataset\n",
        "import numpy\n",
        "from keras.datasets import imdb\n",
        "from keras.models import Sequential\n",
        "from keras.layers import Dense\n",
        "from keras.layers import LSTM\n",
        "from keras.layers.convolutional import Conv1D\n",
        "from keras.layers.convolutional import MaxPooling1D\n",
        "from keras.callbacks import EarlyStopping\n",
        "\n",
        "from keras.layers.embeddings import Embedding\n",
        "from keras.preprocessing import sequence\n",
        "from time import time\n",
        "\n",
        "# fix random seed for reproducibility\n",
        "\n",
        "start = time()\n",
        "model = Sequential()\n",
        "model.add(keras.Input(shape=(1024,1)))\n",
        "model.add(Conv1D(filters=32,\n",
        "                    kernel_size=7,\n",
        "                    strides=1,\n",
        "                    padding='same'))\n",
        "model.add(Conv1D(filters=16,\n",
        "                    kernel_size=9,\n",
        "                    strides=1,\n",
        "                    padding='same'))\n",
        "# model.add(MaxPooling1D(pool_size= 16,\n",
        "                      #  padding='same'))\n",
        "model.add(Conv1D(filters=32, kernel_size=5, padding='same', activation='relu'))\n",
        "# model.add(MaxPooling1D(pool_size=8))\n",
        "model.add(LSTM(100))\n",
        "model.add(Dense(1, activation='sigmoid'))\n",
        "model.compile(loss='binary_crossentropy', optimizer='adam', metrics=['accuracy'])\n",
        "model.build((1024,1,1))\n",
        "print(model.summary())\n",
        "# model.fit(x_train1, y_train1, epochs=25, batch_size=64)\n",
        "early_stopping = EarlyStopping(monitor='val_loss', patience=25, verbose=2)\n",
        "history_m = model.fit(x_train1,y_train1, epochs=150, validation_split =0.2, callbacks = [early_stopping], batch_size = 100, shuffle = True)\n",
        "t=time()-start\n",
        "print('Total training time:', t)\n",
        "history_m.history['training_time']=t\n",
        "# Final evaluation of the model\n",
        "scores = model.evaluate(x_test1, y_test1, verbose=0)\n",
        "# print(\"Accuracy: %.2f%%\" % (scores[1]*100))"
      ]
    },
    {
      "cell_type": "code",
      "source": [
        "model.save('/content/drive/MyDrive/ML/H&U_classification/lstm/model_vA1.h5')\n",
        "np.save('/content/drive/MyDrive/ML/H&U_classification/lstm/verA1_history.npy',history_m)\n",
        "\n",
        "# save testdata to csv file\n",
        "np.savetxt('/content/drive/MyDrive/ML/H&U_classification/lstm/xtest_data_verA1.csv', x_test1, delimiter=',')\n",
        "np.savetxt('/content/drive/MyDrive/ML/H&U_classification/lstm/ytest_data_verA1.csv', y_test1, delimiter=',')\n",
        "np.savetxt('/content/drive/MyDrive/ML/H&U_classification/lstm/xtrain_data_verA1.csv', x_train1, delimiter=',')\n",
        "np.savetxt('/content/drive/MyDrive/ML/H&U_classification/lstm/ytrain_data_verA1.csv', y_train1, delimiter=',')"
      ],
      "metadata": {
        "id": "ZYNjU9cmFw78"
      },
      "execution_count": null,
      "outputs": []
    },
    {
      "cell_type": "code",
      "execution_count": 21,
      "metadata": {
        "colab": {
          "base_uri": "https://localhost:8080/",
          "height": 625
        },
        "id": "PLlN5r4qGifC",
        "outputId": "968c52c6-9083-4300-df40-3b73ac94a809"
      },
      "outputs": [
        {
          "output_type": "stream",
          "name": "stdout",
          "text": [
            "dict_keys(['loss', 'accuracy', 'val_loss', 'val_accuracy', 'training_time'])\n"
          ]
        },
        {
          "output_type": "display_data",
          "data": {
            "text/plain": [
              "<Figure size 432x288 with 1 Axes>"
            ],
            "image/png": "[encoded data removed]"
          },
          "metadata": {
            "needs_background": "light"
          }
        },
        {
          "output_type": "display_data",
          "data": {
            "text/plain": [
              "<Figure size 432x288 with 1 Axes>"
            ],
            "image/png": "[encoded data removed]"
          },
          "metadata": {
            "needs_background": "light"
          }
        },
        {
          "output_type": "stream",
          "name": "stdout",
          "text": [
            "Training accuracy:  97.51344323158264\n",
            "Validation accuracy:  90.86021780967712\n"
          ]
        }
      ],
      "source": [
        "import matplotlib.pyplot as plt\n",
        "from sklearn import metrics\n",
        "\n",
        "# list all data in history\n",
        "print(history.history.keys())\n",
        "# summarize history for accuracy\n",
        "plt.plot(history.history['accuracy'])\n",
        "plt.plot(history.history['val_accuracy'])\n",
        "plt.title('Model accuracy')\n",
        "plt.ylabel('accuracy')\n",
        "plt.xlabel('epoch')\n",
        "plt.legend(['training', 'validation'], loc='upper left')\n",
        "plt.savefig('acc_healthy.pdf')\n",
        "plt.show()\n",
        "\n",
        "# summarize history for loss\n",
        "plt.plot(history.history['loss'])\n",
        "plt.plot(history.history['val_loss'])\n",
        "plt.title('Model loss')\n",
        "plt.ylabel('loss')\n",
        "plt.xlabel('epoch')\n",
        "plt.legend(['training', 'validation'], loc='upper left')\n",
        "plt.savefig('loss_healthy.pdf')\n",
        "plt.show()\n",
        "\n",
        "\n",
        "print(\"Training accuracy: \", history.history['accuracy'][-1]*100)\n",
        "print(\"Validation accuracy: \", history.history['val_accuracy'][-1]*100)   "
      ]
    },
    {
      "cell_type": "code",
      "execution_count": 22,
      "metadata": {
        "colab": {
          "base_uri": "https://localhost:8080/",
          "height": 300
        },
        "id": "pIbtUeeaI_iI",
        "outputId": "b6a0070e-9986-4ff9-fa60-cc1f41c5b3f1"
      },
      "outputs": [
        {
          "output_type": "stream",
          "name": "stdout",
          "text": [
            "0.9683766840408656\n"
          ]
        },
        {
          "output_type": "display_data",
          "data": {
            "text/plain": [
              "<Figure size 432x288 with 1 Axes>"
            ],
            "image/png": "[encoded data removed]"
          },
          "metadata": {
            "needs_background": "light"
          }
        }
      ],
      "source": [
        "from sklearn.metrics import roc_curve\n",
        "from sklearn.metrics import auc\n",
        "y_pred_keras = model1.predict(x_test1).ravel()\n",
        "fpr_keras, tpr_keras, thresholds_keras = roc_curve(y_test1, y_pred_keras)\n",
        "auc_keras = auc(fpr_keras, tpr_keras)\n",
        "print(auc_keras)\n",
        "plt.plot(fpr_keras, tpr_keras, label='ROC curve')\n",
        "plt.fill_between(fpr_keras, tpr_keras, 0, color='blue', alpha=.1, label='AUC = {:.3f}'.format(auc_keras))\n",
        "plt.axis([0, 1, 0, 1])\n",
        "plt.grid()\n",
        "plt.legend(loc='lower right')\n",
        "plt.ylabel('True positive rate')\n",
        "plt.xlabel('False positive rate')\n",
        "plt.savefig('ROC_hea_unhea.pdf')"
      ]
    },
    {
      "cell_type": "code",
      "execution_count": 23,
      "metadata": {
        "colab": {
          "base_uri": "https://localhost:8080/",
          "height": 470
        },
        "id": "e3dKA4NDEeio",
        "outputId": "965ae443-8301-47d1-eda2-5d3f58501411"
      },
      "outputs": [
        {
          "output_type": "stream",
          "name": "stdout",
          "text": [
            "59/59 - 1s - 786ms/epoch - 13ms/step\n",
            "Accuracy: 0.914516\n",
            "Specificity: 0.928726\n",
            "Precision: 0.927233\n",
            "Sensitivity: 0.900428\n",
            "F1 score: 0.913634\n",
            "Cohens kappa: 0.829050\n",
            "ROC AUC: 0.968377\n",
            "Total Samples Test:  1860\n",
            "[[860  66]\n",
            " [ 93 841]]\n"
          ]
        },
        {
          "output_type": "display_data",
          "data": {
            "text/plain": [
              "<Figure size 432x288 with 2 Axes>"
            ],
            "image/png": "[encoded data removed]"
          },
          "metadata": {
            "needs_background": "light"
          }
        }
      ],
      "source": [
        "import matplotlib.pyplot as plt\n",
        "from sklearn import metrics\n",
        "\n",
        "prob = model1.predict(x_test1,verbose = 2)\n",
        "pred = (prob > 0.5).astype(\"int32\")\n",
        "\n",
        "\n",
        "#(loss, acc) = conv_model.evaluate(x_test1, y_test1)\n",
        "#print(\"Accuracy\", acc*100)\n",
        "\n",
        "\n",
        "# reduce to 1d array\n",
        "yhat_probs = prob[:, 0]\n",
        "yhat_classes = pred[:, 0]\n",
        " \n",
        "cm= metrics.confusion_matrix(y_test1,pred)\n",
        "# accuracy: (tp + tn) / (p + n)\n",
        "accuracy = metrics.accuracy_score(y_test1,pred)\n",
        "print('Accuracy: %f' % accuracy)\n",
        "# sensitivity = tp(tp+fn)\n",
        "#sensitivity = metrics.specificity_score(y_test1, pred)\n",
        "# specificity = tn(tn+fp)\n",
        "specificity = cm[0,0]/(cm[0,0]+cm[0,1])\n",
        "print('Specificity: %f' % specificity)\n",
        "# precision tp / (tp + fp)\n",
        "precision = metrics.precision_score(y_test1,pred)\n",
        "print('Precision: %f' % precision)\n",
        "# recall/sensitivity: tp / (tp + fn)\n",
        "recall = metrics.recall_score(y_test1, pred)\n",
        "print('Sensitivity: %f' % recall)\n",
        "# f1: 2 tp / (2 tp + fp + fn)\n",
        "f1 = metrics.f1_score(y_test1, pred)\n",
        "print('F1 score: %f' % f1)\n",
        "# kappa\n",
        "kappa = metrics.cohen_kappa_score(y_test1, pred)\n",
        "print('Cohens kappa: %f' % kappa)\n",
        "# ROC AUC\n",
        "auc = metrics.roc_auc_score(y_test1, prob)\n",
        "print('ROC AUC: %f' % auc)\n",
        "\n",
        "print(\"Total Samples Test: \", np.shape(y_test1)[0])\n",
        "labels=[\"Healthy\", \"Unhealthy\"]\n",
        "cm=metrics.confusion_matrix(y_test1,pred)\n",
        "disp = metrics.ConfusionMatrixDisplay(confusion_matrix=cm, display_labels=labels)      \n",
        "disp.plot()\n",
        "plt.savefig('confusion_matrix_healthy_lstm.pdf')\n",
        "print(cm)"
      ]
    },
    {
      "cell_type": "markdown",
      "metadata": {
        "id": "ihJEVuiw-3Nj"
      },
      "source": [
        "##Inception Model"
      ]
    },
    {
      "cell_type": "code",
      "execution_count": null,
      "metadata": {
        "id": "wW1alQl56WpG"
      },
      "outputs": [],
      "source": [
        "# GRADED FUNCTION: convolutional_model\n",
        "from tensorflow import keras\n",
        "import tensorflow.keras.layers as tfl\n",
        "from tensorflow.keras.layers import *\n",
        "from tensorflow.keras.utils import *\n",
        "from time import time\n",
        "\n",
        "\n",
        "# Architecture of the model\n",
        "def inception_module(layer, f1, f2, f3, f4):\n",
        "    conv1 = Conv1D(f1, 1, activation='relu', padding='same')(layer)\n",
        "    conv2 = Conv1D(f1, 1, activation='relu', padding='same')(layer)\n",
        "    conv3 = Conv1D(f1, 1, activation='relu', padding='same')(layer)\n",
        "    maxp = MaxPool1D(pool_size=3, strides=1, padding='same')(layer)\n",
        "\n",
        "    conv2 = Conv1D(f2, 3, activation='relu', padding='same')(conv2)\n",
        "    conv3 = Conv1D(f3, 5, activation='relu', padding='same')(conv3)\n",
        "    conv4 = Conv1D(f4, 1, activation='relu', padding='same')(maxp)\n",
        "\n",
        "    return Concatenate()([conv1, conv2, conv3, conv4])\n",
        "\n",
        "def build_incep(input_shape,  x_train,y_train,test_data):\n",
        "    start=time()\n",
        "    input_signal = Input(shape=input_shape)\n",
        "\n",
        "\n",
        "    incept = inception_module(input_signal, 16, 32, 64, 16)\n",
        "    conv = Conv1D(96, 5, activation='relu', padding='same')(incept)\n",
        "    conv = Conv1D(64, 3, activation='relu', padding='same')(conv)\n",
        "    gru = GRU(64, return_sequences=True)(conv)\n",
        "\n",
        "    maxp = MaxPool1D()(gru)\n",
        "\n",
        "    incept = inception_module(maxp, 8, 16, 32, 8)\n",
        "    conv = Conv1D(48, 5, activation='relu', padding='same')(incept)\n",
        "    conv = Conv1D(32, 3, activation='relu', padding='same')(conv)\n",
        "    gru = GRU(32, return_sequences=True)(conv)\n",
        "\n",
        "    maxp = MaxPool1D()(gru)\n",
        "\n",
        "    incept = inception_module(maxp, 2, 4, 8, 2)\n",
        "    conv = Conv1D(12, 5, activation='relu', padding='same')(incept)\n",
        "    conv = Conv1D(8, 3, activation='relu', padding='same')(conv)\n",
        "    gru = GRU(8, return_sequences=True)(conv)\n",
        "\n",
        "    flat = Flatten()(gru)\n",
        "    #output1 = Dense(8, activation='relu')(flat)\n",
        "    output = Dense(1, activation='sigmoid')(flat)\n",
        "\n",
        "\n",
        "    #if 'model' in globals() or 'model' in locals():\n",
        "    #    del model\n",
        "\n",
        "    model = keras.Model(inputs=input_signal, outputs=output)\n",
        "    model.summary()\n",
        "    init_weights = model.get_weights()\n",
        "    \n",
        "    #plot_model(model, show_shapes=True)\n",
        "\n",
        "    #compile\n",
        "    opt = tf.keras.optimizers.Adam( learning_rate=0.001, beta_1=0.9, beta_2=0.999, epsilon=1e-07)\n",
        "\n",
        "    #compile\n",
        "    model.compile(optimizer = 'adam',\n",
        "                  loss='binary_crossentropy',\n",
        "              metrics=['accuracy'])\n",
        "    \n",
        "    model.summary()\n",
        "\n",
        "    early_stopping = keras.callbacks.EarlyStopping(monitor='val_loss', patience=15, verbose=2)\n",
        "    history_m = model.fit(x_train,y_train, epochs=150, validation_split = 0.2, callbacks=[early_stopping] ,batch_size = 64, shuffle = True)\n",
        "\n",
        "    t=time()-start\n",
        "    print('Total training time:', t)\n",
        "    history_m.history['time']=t\n",
        "    \n",
        "    return model, history_m"
      ]
    },
    {
      "cell_type": "code",
      "execution_count": null,
      "metadata": {
        "id": "m8y9CAqb6Wmu"
      },
      "outputs": [],
      "source": [
        "conv_model, history = build_incep((1024,1), x_train1, y_train1, (x_test1,y_test1))"
      ]
    },
    {
      "cell_type": "markdown",
      "metadata": {
        "id": "GLd1mBmxWkUp"
      },
      "source": [
        "## Results"
      ]
    },
    {
      "cell_type": "code",
      "execution_count": null,
      "metadata": {
        "id": "ezOwvVSyWj2h"
      },
      "outputs": [],
      "source": [
        "model1 = tf.keras.models.load_model('/content/drive/MyDrive/ML/H&U_classification/lstm/model_v4.h5')\n",
        "history=np.load('/content/drive/MyDrive/ML/H&U_classification/lstm/ver4_history.npy',allow_pickle='TRUE').item()\n",
        "\n",
        "x_test1 = np.loadtxt('/content/drive/MyDrive/ML/H&U_classification/lstm/xtest_data_ver4.csv', delimiter=',')\n",
        "y_test1 = np.loadtxt('/content/drive/MyDrive/ML/H&U_classification/lstm/ytest_data_ver4.csv', delimiter=',')"
      ]
    },
    {
      "cell_type": "code",
      "execution_count": 6,
      "metadata": {
        "colab": {
          "base_uri": "https://localhost:8080/",
          "height": 1000
        },
        "id": "a1gTuEjFWqf7",
        "outputId": "0e67ce10-68c1-4b52-faa4-0ad100ddee92"
      },
      "outputs": [
        {
          "output_type": "display_data",
          "data": {
            "text/plain": [
              "<Figure size 432x288 with 1 Axes>"
            ],
            "image/png": "[encoded data removed]"
          },
          "metadata": {
            "needs_background": "light"
          }
        },
        {
          "output_type": "display_data",
          "data": {
            "text/plain": [
              "<Figure size 432x288 with 1 Axes>"
            ],
            "image/png": "[encoded data removed]"
          },
          "metadata": {
            "needs_background": "light"
          }
        },
        {
          "output_type": "stream",
          "name": "stdout",
          "text": [
            "Training accuracy:  97.51344323158264\n",
            "Validation accuracy:  90.86021780967712\n",
            "59/59 - 13s - 13s/epoch - 214ms/step\n",
            "Accuracy: 0.914516\n",
            "Specificity: 0.928726\n",
            "Precision: 0.927233\n",
            "Sensitivity: 0.900428\n",
            "F1 score: 0.913634\n",
            "Cohens kappa: 0.829050\n",
            "ROC AUC: 0.968377\n",
            "Total Samples Test:  1860\n",
            "[[860  66]\n",
            " [ 93 841]]\n"
          ]
        },
        {
          "output_type": "display_data",
          "data": {
            "text/plain": [
              "<Figure size 432x288 with 2 Axes>"
            ],
            "image/png": "[encoded data removed]"
          },
          "metadata": {
            "needs_background": "light"
          }
        }
      ],
      "source": [
        "import matplotlib.pyplot as plt\n",
        "from sklearn import metrics\n",
        "\n",
        "# list all data in history\n",
        "#print(history.history.keys())\n",
        "# summarize history for accuracy\n",
        "# plt.plot(history.history['accuracy'])\n",
        "# plt.plot(history.history['val_accuracy'])\n",
        "plt.plot(history.history['accuracy'])\n",
        "plt.plot(history.history['val_accuracy'])\n",
        "plt.title('Model accuracy')\n",
        "plt.ylabel('accuracy')\n",
        "plt.xlabel('epoch')\n",
        "plt.legend(['train', 'validation'], loc='upper left')\n",
        "plt.savefig('acc_healthy_unhealthy.pdf')\n",
        "plt.show()\n",
        "\n",
        "# summarize history for loss\n",
        "# plt.plot(history.history['loss'])\n",
        "# plt.plot(history.history['val_loss'])\n",
        "plt.plot(history.history['loss'])\n",
        "plt.plot(history.history['val_loss'])\n",
        "plt.title('Model loss')\n",
        "plt.ylabel('loss')\n",
        "plt.xlabel('epoch')\n",
        "plt.legend(['train', 'validation'], loc='upper left')\n",
        "plt.savefig('loss_healthy_unhealthy.pdf')\n",
        "plt.show()\n",
        "\n",
        "\n",
        "\n",
        "# print(\"Training accuracy: \", history.history['accuracy'][-1]*100)\n",
        "# print(\"Validation accuracy: \", history.history['val_accuracy'][-1]*100)   \n",
        "print(\"Training accuracy: \", history.history['accuracy'][-1]*100)\n",
        "print(\"Validation accuracy: \", history.history['val_accuracy'][-1]*100)        \n",
        "\n",
        "prob = model1.predict(x_test1,verbose = 2)\n",
        "pred = (prob > 0.5).astype(\"int32\")\n",
        "\n",
        "\n",
        "#(loss, acc) = conv_model.evaluate(x_test1, y_test1)\n",
        "#print(\"Accuracy\", acc*100)\n",
        "\n",
        "\n",
        "# reduce to 1d array\n",
        "yhat_probs = prob[:, 0]\n",
        "yhat_classes = pred[:, 0]\n",
        " \n",
        "cm=metrics.confusion_matrix(y_test1,pred)\n",
        "# accuracy: (tp + tn) / (p + n)\n",
        "accuracy = metrics.accuracy_score(y_test1,pred)\n",
        "print('Accuracy: %f' % accuracy)\n",
        "# sensitivity = tp(tp+fn)\n",
        "#sensitivity = metrics.specificity_score(y_test1, pred)\n",
        "# specificity = tn(tn+fp)\n",
        "specificity = cm[0,0]/(cm[0,0]+cm[0,1])\n",
        "print('Specificity: %f' % specificity)\n",
        "# precision tp / (tp + fp)\n",
        "precision = metrics.precision_score(y_test1,pred)\n",
        "print('Precision: %f' % precision)\n",
        "# recall/sensitivity: tp / (tp + fn)\n",
        "recall = metrics.recall_score(y_test1, pred)\n",
        "print('Sensitivity: %f' % recall)\n",
        "# f1: 2 tp / (2 tp + fp + fn)\n",
        "f1 = metrics.f1_score(y_test1, pred)\n",
        "print('F1 score: %f' % f1)\n",
        "# kappa\n",
        "kappa = metrics.cohen_kappa_score(y_test1, pred)\n",
        "print('Cohens kappa: %f' % kappa)\n",
        "# ROC AUC\n",
        "auc = metrics.roc_auc_score(y_test1, prob)\n",
        "print('ROC AUC: %f' % auc)\n",
        "\n",
        "print(\"Total Samples Test: \", np.shape(y_test1)[0])\n",
        "labels=[\"Healthy\", \"Unhealthy\"]\n",
        "cm=metrics.confusion_matrix(y_test1,pred)\n",
        "disp = metrics.ConfusionMatrixDisplay(confusion_matrix=cm, display_labels=labels)      \n",
        "disp.plot()\n",
        "plt.savefig('confusion_matrix_healthy_unhealthy.pdf')\n",
        "print(cm)"
      ]
    },
    {
      "cell_type": "code",
      "execution_count": 7,
      "metadata": {
        "colab": {
          "base_uri": "https://localhost:8080/",
          "height": 300
        },
        "id": "QwYZuPmvWsgB",
        "outputId": "e77a8d7c-109b-4c45-9ddf-5f1d1aa48df1"
      },
      "outputs": [
        {
          "output_type": "stream",
          "name": "stdout",
          "text": [
            "0.9683766840408656\n"
          ]
        },
        {
          "output_type": "display_data",
          "data": {
            "text/plain": [
              "<Figure size 432x288 with 1 Axes>"
            ],
            "image/png": "[encoded data removed]"
          },
          "metadata": {
            "needs_background": "light"
          }
        }
      ],
      "source": [
        "from sklearn.metrics import roc_curve\n",
        "from sklearn.metrics import auc\n",
        "y_pred_keras = model1.predict(x_test1).ravel()\n",
        "fpr_keras, tpr_keras, thresholds_keras = roc_curve(y_test1, y_pred_keras)\n",
        "auc_keras = auc(fpr_keras, tpr_keras)\n",
        "print(auc_keras)\n",
        "plt.plot(fpr_keras, tpr_keras, label='ROC curve')\n",
        "plt.fill_between(fpr_keras, tpr_keras, 0, color='blue', alpha=.1, label='AUC = {:.3f}'.format(auc_keras))\n",
        "plt.axis([0, 1, 0, 1])\n",
        "plt.grid()\n",
        "plt.legend(loc='lower right')\n",
        "plt.ylabel('True positive rate')\n",
        "plt.xlabel('False positive rate')\n",
        "plt.savefig('ROC_hea_unhea.pdf')"
      ]
    },
    {
      "cell_type": "code",
      "execution_count": 8,
      "metadata": {
        "colab": {
          "base_uri": "https://localhost:8080/",
          "height": 300
        },
        "id": "rlILDE2eW0cy",
        "outputId": "9f874343-fd7e-4751-c181-945503764189"
      },
      "outputs": [
        {
          "output_type": "stream",
          "name": "stdout",
          "text": [
            "Actual = Healthy, Prediction = Healthy\n"
          ]
        },
        {
          "output_type": "display_data",
          "data": {
            "text/plain": [
              "<Figure size 432x288 with 1 Axes>"
            ],
            "image/png": "[encoded data removed]"
          },
          "metadata": {
            "needs_background": "light"
          }
        }
      ],
      "source": [
        "labels=[\"Healthy\", \"Unhealthy\"]\n",
        "index=600\n",
        "pred = model1.predict(x_test1)\n",
        "\n",
        "real=y_test1\n",
        "prediction=0\n",
        "if (pred[index]>=0.5): prediction=1\n",
        "act=labels[int(real[index])]\n",
        "pr=labels[prediction]\n",
        "print (\"Actual = \" + act + \", Prediction = \" + pr)\n",
        "plt.plot(np.arange(1024)/512 ,x_test1[index,:])\n",
        "plt.xlabel(\"time duration in sec\")\n",
        "plt.ylabel(\"Amplitude of signal\")\n",
        "plt.axis([0, 2, -200, 200])\n",
        "plt.show()"
      ]
    },
    {
      "cell_type": "markdown",
      "source": [
        "# Healthy - Unhealthy Classification [Phase B]"
      ],
      "metadata": {
        "id": "3jMrdzyhG1ai"
      }
    },
    {
      "cell_type": "code",
      "source": [
        "model1 = tf.keras.models.load_model('/content/drive/MyDrive/ML/H&U_classification/lstm/model_vB1.h5')\n",
        "history=np.load('/content/drive/MyDrive/ML/H&U_classification/lstm/verB1_history.npy',allow_pickle='TRUE').item()\n",
        "\n",
        "x_test1 = np.loadtxt('/content/drive/MyDrive/ML/H&U_classification/lstm/xtest_data_verB1.csv', delimiter=',')\n",
        "y_test1 = np.loadtxt('/content/drive/MyDrive/ML/H&U_classification/lstm/ytest_data_verB1.csv', delimiter=',')"
      ],
      "metadata": {
        "id": "POzlVvl2G_iY"
      },
      "execution_count": 9,
      "outputs": []
    },
    {
      "cell_type": "code",
      "source": [
        "import matplotlib.pyplot as plt\n",
        "from sklearn import metrics\n",
        "\n",
        "# summarize history for accuracy\n",
        "plt.plot(history.history['accuracy'])\n",
        "plt.plot(history.history['val_accuracy'])\n",
        "plt.title('Model accuracy')\n",
        "plt.ylabel('accuracy')\n",
        "plt.xlabel('epoch')\n",
        "plt.legend(['train', 'validation'], loc='upper left')\n",
        "plt.savefig('acc_healthy_unhealthy.pdf')\n",
        "plt.show()\n",
        "\n",
        "# summarize history for loss\n",
        "plt.plot(history.history['loss'])\n",
        "plt.plot(history.history['val_loss'])\n",
        "plt.title('Model loss')\n",
        "plt.ylabel('loss')\n",
        "plt.xlabel('epoch')\n",
        "plt.legend(['train', 'validation'], loc='upper left')\n",
        "plt.savefig('loss_healthy_unhealthy.pdf')\n",
        "plt.show()\n",
        "\n",
        "  \n",
        "print(\"Training accuracy: \", history.history['accuracy'][-1]*100)\n",
        "print(\"Validation accuracy: \", history.history['val_accuracy'][-1]*100)        \n",
        "\n",
        "prob = model1.predict(x_test1,verbose = 2)\n",
        "pred = (prob > 0.5).astype(\"int32\")\n",
        "\n",
        "# reduce to 1d array\n",
        "yhat_probs = prob[:, 0]\n",
        "yhat_classes = pred[:, 0]\n",
        " \n",
        "cm=metrics.confusion_matrix(y_test1,pred)\n",
        "# accuracy: (tp + tn) / (p + n)\n",
        "accuracy = metrics.accuracy_score(y_test1,pred)\n",
        "print('Accuracy: %f' % accuracy)\n",
        "# sensitivity = tp(tp+fn)\n",
        "#sensitivity = metrics.specificity_score(y_test1, pred)\n",
        "# specificity = tn(tn+fp)\n",
        "specificity = cm[0,0]/(cm[0,0]+cm[0,1])\n",
        "print('Specificity: %f' % specificity)\n",
        "# precision tp / (tp + fp)\n",
        "precision = metrics.precision_score(y_test1,pred)\n",
        "print('Precision: %f' % precision)\n",
        "# recall/sensitivity: tp / (tp + fn)\n",
        "recall = metrics.recall_score(y_test1, pred)\n",
        "print('Sensitivity: %f' % recall)\n",
        "# f1: 2 tp / (2 tp + fp + fn)\n",
        "f1 = metrics.f1_score(y_test1, pred)\n",
        "print('F1 score: %f' % f1)\n",
        "# kappa\n",
        "kappa = metrics.cohen_kappa_score(y_test1, pred)\n",
        "print('Cohens kappa: %f' % kappa)\n",
        "# ROC AUC\n",
        "auc = metrics.roc_auc_score(y_test1, prob)\n",
        "print('ROC AUC: %f' % auc)\n",
        "\n",
        "print(\"Total Samples Test: \", np.shape(y_test1)[0])\n",
        "labels=[\"Healthy\", \"Unhealthy\"]\n",
        "cm=metrics.confusion_matrix(y_test1,pred)\n",
        "disp = metrics.ConfusionMatrixDisplay(confusion_matrix=cm, display_labels=labels)      \n",
        "disp.plot()\n",
        "plt.savefig('confusion_matrix_healthy_unhealthy.pdf')\n",
        "print(cm)"
      ],
      "metadata": {
        "colab": {
          "base_uri": "https://localhost:8080/",
          "height": 1000
        },
        "id": "pKOMsxJUHbic",
        "outputId": "37c21456-eb10-482f-d0b2-1a39e6ce7ea4"
      },
      "execution_count": 10,
      "outputs": [
        {
          "output_type": "display_data",
          "data": {
            "text/plain": [
              "<Figure size 432x288 with 1 Axes>"
            ],
            "image/png": "[encoded data removed]"
          },
          "metadata": {
            "needs_background": "light"
          }
        },
        {
          "output_type": "display_data",
          "data": {
            "text/plain": [
              "<Figure size 432x288 with 1 Axes>"
            ],
            "image/png": "[encoded data removed]"
          },
          "metadata": {
            "needs_background": "light"
          }
        },
        {
          "output_type": "stream",
          "name": "stdout",
          "text": [
            "Training accuracy:  96.53897881507874\n",
            "Validation accuracy:  93.34677457809448\n",
            "59/59 - 1s - 1s/epoch - 22ms/step\n",
            "Accuracy: 0.927419\n",
            "Specificity: 0.961702\n",
            "Precision: 0.957993\n",
            "Sensitivity: 0.892391\n",
            "F1 score: 0.924029\n",
            "Cohens kappa: 0.854716\n",
            "ROC AUC: 0.975164\n",
            "Total Samples Test:  1860\n",
            "[[904  36]\n",
            " [ 99 821]]\n"
          ]
        },
        {
          "output_type": "display_data",
          "data": {
            "text/plain": [
              "<Figure size 432x288 with 2 Axes>"
            ],
            "image/png": "[encoded data removed]"
          },
          "metadata": {
            "needs_background": "light"
          }
        }
      ]
    },
    {
      "cell_type": "code",
      "source": [
        "from sklearn.metrics import roc_curve\n",
        "from sklearn.metrics import auc\n",
        "y_pred_keras = model1.predict(x_test1).ravel()\n",
        "fpr_keras, tpr_keras, thresholds_keras = roc_curve(y_test1, y_pred_keras)\n",
        "auc_keras = auc(fpr_keras, tpr_keras)\n",
        "print(auc_keras)\n",
        "plt.plot(fpr_keras, tpr_keras, label='ROC curve')\n",
        "plt.fill_between(fpr_keras, tpr_keras, 0, color='blue', alpha=.1, label='AUC = {:.3f}'.format(auc_keras))\n",
        "plt.axis([0, 1, 0, 1])\n",
        "plt.grid()\n",
        "plt.legend(loc='lower right')\n",
        "plt.ylabel('True positive rate')\n",
        "plt.xlabel('False positive rate')\n",
        "plt.savefig('ROC_hea_unhea.pdf')"
      ],
      "metadata": {
        "colab": {
          "base_uri": "https://localhost:8080/",
          "height": 300
        },
        "id": "1VUa7SDfHj6L",
        "outputId": "584324c4-851e-4f2b-96cc-c07c48c7a06d"
      },
      "execution_count": 11,
      "outputs": [
        {
          "output_type": "stream",
          "name": "stdout",
          "text": [
            "0.975164199814986\n"
          ]
        },
        {
          "output_type": "display_data",
          "data": {
            "text/plain": [
              "<Figure size 432x288 with 1 Axes>"
            ],
            "image/png": "[encoded data removed]"
          },
          "metadata": {
            "needs_background": "light"
          }
        }
      ]
    },
    {
      "cell_type": "code",
      "source": [
        "labels=[\"Healthy\", \"Unhealthy\"]\n",
        "index=1000\n",
        "pred = model1.predict(x_test1)\n",
        "\n",
        "real = y_test1\n",
        "prediction = 0\n",
        "if (pred[index]>=0.5): prediction=1\n",
        "act=labels[int(real[index])]\n",
        "pr=labels[prediction]\n",
        "print (\"Actual = \" + act + \", Prediction = \" + pr)\n",
        "plt.plot(np.arange(1024)/512 ,x_test1[index,:])\n",
        "plt.xlabel(\"time duration in sec\")\n",
        "plt.ylabel(\"Amplitude of signal\")\n",
        "plt.axis([0, 2, -200, 200])\n",
        "plt.show()"
      ],
      "metadata": {
        "colab": {
          "base_uri": "https://localhost:8080/",
          "height": 300
        },
        "id": "xF5vmJPWHv1a",
        "outputId": "0eb88bf6-76c9-4b7f-8b9c-66bc9ddbd394"
      },
      "execution_count": 13,
      "outputs": [
        {
          "output_type": "stream",
          "name": "stdout",
          "text": [
            "Actual = Healthy, Prediction = Healthy\n"
          ]
        },
        {
          "output_type": "display_data",
          "data": {
            "text/plain": [
              "<Figure size 432x288 with 1 Axes>"
            ],
            "image/png": "[encoded data removed]"
          },
          "metadata": {
            "needs_background": "light"
          }
        }
      ]
    },
    {
      "cell_type": "markdown",
      "source": [
        "# Healthy - Unhealthy Classification [Phase A]"
      ],
      "metadata": {
        "id": "P01wpjgYH2w2"
      }
    },
    {
      "cell_type": "code",
      "source": [
        "model1 = tf.keras.models.load_model('/content/drive/MyDrive/ML/H&U_classification/lstm/model_vA1.h5')\n",
        "history=np.load('/content/drive/MyDrive/ML/H&U_classification/lstm/verA1_history.npy',allow_pickle='TRUE').item()\n",
        "\n",
        "x_test1 = np.loadtxt('/content/drive/MyDrive/ML/H&U_classification/lstm/xtest_data_verA1.csv', delimiter=',')\n",
        "y_test1 = np.loadtxt('/content/drive/MyDrive/ML/H&U_classification/lstm/ytest_data_verA1.csv', delimiter=',')"
      ],
      "metadata": {
        "id": "3N-GajRnH2RF"
      },
      "execution_count": 14,
      "outputs": []
    },
    {
      "cell_type": "code",
      "source": [
        "import matplotlib.pyplot as plt\n",
        "from sklearn import metric\n",
        "\n",
        "# summarize history for accuracy\n",
        "plt.plot(history.history['accuracy'])\n",
        "plt.plot(history.history['val_accuracy'])\n",
        "plt.title('Model accuracy')\n",
        "plt.ylabel('accuracy')\n",
        "plt.xlabel('epoch')\n",
        "plt.legend(['train', 'validation'], loc='upper left')\n",
        "plt.savefig('acc_healthy_unhealthy.pdf')\n",
        "plt.show()\n",
        "\n",
        "plt.plot(history.history['loss'])\n",
        "plt.plot(history.history['val_loss'])\n",
        "plt.title('Model loss')\n",
        "plt.ylabel('loss')\n",
        "plt.xlabel('epoch')\n",
        "plt.legend(['train', 'validation'], loc='upper left')\n",
        "plt.savefig('loss_healthy_unhealthy.pdf')\n",
        "plt.show()\n",
        "  \n",
        "print(\"Training accuracy: \", history.history['accuracy'][-1]*100)\n",
        "print(\"Validation accuracy: \", history.history['val_accuracy'][-1]*100)        \n",
        "\n",
        "prob = model1.predict(x_test1,verbose = 2)\n",
        "pred = (prob > 0.5).astype(\"int32\")\n",
        "\n",
        "# reduce to 1d array\n",
        "yhat_probs = prob[:, 0]\n",
        "yhat_classes = pred[:, 0]\n",
        " \n",
        "cm=metrics.confusion_matrix(y_test1,pred)\n",
        "# accuracy: (tp + tn) / (p + n)\n",
        "accuracy = metrics.accuracy_score(y_test1,pred)\n",
        "print('Accuracy: %f' % accuracy)\n",
        "# sensitivity = tp(tp+fn)\n",
        "#sensitivity = metrics.specificity_score(y_test1, pred)\n",
        "# specificity = tn(tn+fp)\n",
        "specificity = cm[0,0]/(cm[0,0]+cm[0,1])\n",
        "print('Specificity: %f' % specificity)\n",
        "# precision tp / (tp + fp)\n",
        "precision = metrics.precision_score(y_test1,pred)\n",
        "print('Precision: %f' % precision)\n",
        "# recall/sensitivity: tp / (tp + fn)\n",
        "recall = metrics.recall_score(y_test1, pred)\n",
        "print('Sensitivity: %f' % recall)\n",
        "# f1: 2 tp / (2 tp + fp + fn)\n",
        "f1 = metrics.f1_score(y_test1, pred)\n",
        "print('F1 score: %f' % f1)\n",
        "# kappa\n",
        "kappa = metrics.cohen_kappa_score(y_test1, pred)\n",
        "print('Cohens kappa: %f' % kappa)\n",
        "# ROC AUC\n",
        "auc = metrics.roc_auc_score(y_test1, prob)\n",
        "print('ROC AUC: %f' % auc)\n",
        "\n",
        "print(\"Total Samples Test: \", np.shape(y_test1)[0])\n",
        "labels=[\"Healthy\", \"Unhealthy\"]\n",
        "cm=metrics.confusion_matrix(y_test1,pred)\n",
        "disp = metrics.ConfusionMatrixDisplay(confusion_matrix=cm, display_labels=labels)      \n",
        "disp.plot()\n",
        "plt.savefig('confusion_matrix_healthy_unhealthy.pdf')\n",
        "print(cm)"
      ],
      "metadata": {
        "colab": {
          "base_uri": "https://localhost:8080/",
          "height": 1000
        },
        "id": "TMbSjPBDIDAq",
        "outputId": "4313e911-41c1-48a3-c14c-55ee0f241a95"
      },
      "execution_count": 15,
      "outputs": [
        {
          "output_type": "display_data",
          "data": {
            "text/plain": [
              "<Figure size 432x288 with 1 Axes>"
            ],
            "image/png": "[encoded data removed]"
          },
          "metadata": {
            "needs_background": "light"
          }
        },
        {
          "output_type": "display_data",
          "data": {
            "text/plain": [
              "<Figure size 432x288 with 1 Axes>"
            ],
            "image/png": "[encoded data removed]"
          },
          "metadata": {
            "needs_background": "light"
          }
        },
        {
          "output_type": "stream",
          "name": "stdout",
          "text": [
            "Training accuracy:  92.28830933570862\n",
            "Validation accuracy:  73.79032373428345\n",
            "59/59 - 2s - 2s/epoch - 30ms/step\n",
            "Accuracy: 0.733871\n",
            "Specificity: 0.706202\n",
            "Precision: 0.726166\n",
            "Sensitivity: 0.760893\n",
            "F1 score: 0.743124\n",
            "Cohens kappa: 0.467363\n",
            "ROC AUC: 0.800870\n",
            "Total Samples Test:  1860\n",
            "[[649 270]\n",
            " [225 716]]\n"
          ]
        },
        {
          "output_type": "display_data",
          "data": {
            "text/plain": [
              "<Figure size 432x288 with 2 Axes>"
            ],
            "image/png": "[encoded data removed]"
          },
          "metadata": {
            "needs_background": "light"
          }
        }
      ]
    },
    {
      "cell_type": "code",
      "source": [
        "from sklearn.metrics import roc_curve\n",
        "from sklearn.metrics import auc\n",
        "y_pred_keras = model1.predict(x_test1).ravel()\n",
        "fpr_keras, tpr_keras, thresholds_keras = roc_curve(y_test1, y_pred_keras)\n",
        "auc_keras = auc(fpr_keras, tpr_keras)\n",
        "print(auc_keras)\n",
        "plt.plot(fpr_keras, tpr_keras, label='ROC curve')\n",
        "plt.fill_between(fpr_keras, tpr_keras, 0, color='blue', alpha=.1, label='AUC = {:.3f}'.format(auc_keras))\n",
        "plt.axis([0, 1, 0, 1])\n",
        "plt.grid()\n",
        "plt.legend(loc='lower right')\n",
        "plt.ylabel('True positive rate')\n",
        "plt.xlabel('False positive rate')\n",
        "plt.savefig('ROC_hea_unhea.pdf')"
      ],
      "metadata": {
        "colab": {
          "base_uri": "https://localhost:8080/",
          "height": 300
        },
        "id": "lb_GrSOxIKFO",
        "outputId": "dd085aaa-c26e-49da-b4c1-f870cb402b01"
      },
      "execution_count": 16,
      "outputs": [
        {
          "output_type": "stream",
          "name": "stdout",
          "text": [
            "0.8008699332430599\n"
          ]
        },
        {
          "output_type": "display_data",
          "data": {
            "text/plain": [
              "<Figure size 432x288 with 1 Axes>"
            ],
            "image/png": "[encoded data removed]"
          },
          "metadata": {
            "needs_background": "light"
          }
        }
      ]
    },
    {
      "cell_type": "code",
      "source": [
        "labels=[\"Healthy\", \"Unhealthy\"]\n",
        "index=500\n",
        "pred = model1.predict(x_test1)\n",
        "\n",
        "real=y_test1\n",
        "prediction=0\n",
        "if (pred[index]>=0.5): prediction=1\n",
        "act=labels[int(real[index])]\n",
        "pr=labels[prediction]\n",
        "print (\"Actual = \" + act + \", Prediction = \" + pr)\n",
        "plt.plot(np.arange(1024)/512 ,x_test1[index,:])\n",
        "plt.xlabel(\"time duration in sec\")\n",
        "plt.ylabel(\"Amplitude of signal\")\n",
        "plt.axis([0, 2, -200, 200])\n",
        "plt.show()"
      ],
      "metadata": {
        "colab": {
          "base_uri": "https://localhost:8080/",
          "height": 300
        },
        "id": "sNmCT4DOIM30",
        "outputId": "128de6a5-b165-4f7e-f9b2-da7ada2125cf"
      },
      "execution_count": 19,
      "outputs": [
        {
          "output_type": "stream",
          "name": "stdout",
          "text": [
            "Actual = Healthy, Prediction = Healthy\n"
          ]
        },
        {
          "output_type": "display_data",
          "data": {
            "text/plain": [
              "<Figure size 432x288 with 1 Axes>"
            ],
            "image/png": "[encoded data removed]"
          },
          "metadata": {
            "needs_background": "light"
          }
        }
      ]
    },
    {
      "cell_type": "markdown",
      "metadata": {
        "id": "DNAY6K38-84F"
      },
      "source": [
        "#Disease Classification"
      ]
    },
    {
      "cell_type": "code",
      "execution_count": null,
      "metadata": {
        "id": "hJf0Us5pwVjV"
      },
      "outputs": [],
      "source": [
        "bal_all = np.loadtxt('/content/drive/MyDrive/ML/Disease_classification/Dataset/both_phases.csv', delimiter=',')"
      ]
    },
    {
      "cell_type": "code",
      "execution_count": null,
      "metadata": {
        "colab": {
          "base_uri": "https://localhost:8080/"
        },
        "id": "bDjSpN-fwWCI",
        "outputId": "094350be-6912-4490-c182-51ab70f6c1e8"
      },
      "outputs": [
        {
          "name": "stdout",
          "output_type": "stream",
          "text": [
            "(47790, 1024)\n",
            "(47790,)\n",
            "(47790, 1)\n"
          ]
        }
      ],
      "source": [
        "x_bal = bal_all[:,0:1024]\n",
        "y_disease = bal_all[:,-1]\n",
        "print(np.shape(x_bal))\n",
        "print(np.shape(y_disease))\n",
        "y_disease=y_disease.reshape(-1,1 )\n",
        "print(np.shape(y_disease))"
      ]
    },
    {
      "cell_type": "code",
      "execution_count": null,
      "metadata": {
        "colab": {
          "base_uri": "https://localhost:8080/"
        },
        "id": "PokYvcoMwZir",
        "outputId": "8c4c8d97-569e-4da4-e181-fc02ab0ed49e"
      },
      "outputs": [
        {
          "name": "stdout",
          "output_type": "stream",
          "text": [
            "0.0\n",
            "[1. 0. 0. 0. 0.]\n"
          ]
        }
      ],
      "source": [
        "from sklearn.model_selection import train_test_split \n",
        "from sklearn.preprocessing import OneHotEncoder\n",
        "\n",
        "print(y_disease[8500,0])\n",
        "enc = OneHotEncoder(handle_unknown='ignore')\n",
        "# 2. FIT\n",
        "enc.fit(y_disease)\n",
        "\n",
        "# 3. Transform\n",
        "onehotlabels = enc.transform(y_disease).toarray()\n",
        "\n",
        "print(onehotlabels[8500])\n",
        "\n",
        "x_train1, x_test1, y_train1, y_test1 = train_test_split(x_bal, onehotlabels, test_size = 0.2, shuffle = True)"
      ]
    },
    {
      "cell_type": "markdown",
      "metadata": {
        "id": "TXzOVw_3_Fe0"
      },
      "source": [
        "## 1D CNN"
      ]
    },
    {
      "cell_type": "code",
      "execution_count": null,
      "metadata": {
        "id": "IU2Ofo-SYEh_"
      },
      "outputs": [],
      "source": [
        "# GRADED FUNCTION: convolutional_model\n",
        "import tensorflow as tf\n",
        "from keras.callbacks import EarlyStopping\n",
        "import tensorflow.keras.layers as tfl\n",
        "import matplotlib.pyplot as plt\n",
        "from keras.layers import Dropout\n",
        "from keras.utils.vis_utils import plot_model\n",
        "from keras.layers.merge import concatenate\n",
        "from time import time\n",
        "\n",
        "def disease_classification(input_shape, x_train,y_train,test_data):\n",
        "    \"\"\"\n",
        "    \n",
        "    Arguments:\n",
        "    input_shape\n",
        "\n",
        "    Returns:\n",
        "    model -- TF Keras model (object containing the information for the entire training process) \n",
        "    history\n",
        "    \"\"\"\n",
        "\n",
        "    start = time()\n",
        "\n",
        "    input_img = tf.keras.Input(shape=input_shape)\n",
        "    ## CONV1D: 8 filters 4x4, stride of 1, padding 'SAME'\n",
        "    Z1 = tfl.Conv1D(filters=25,\n",
        "                    kernel_size=15,\n",
        "                    strides=1,\n",
        "                    padding='same')(input_img) \n",
        "    Z11 = tfl.Conv1D(filters=25,\n",
        "                    kernel_size=9,\n",
        "                    strides=1,\n",
        "                    padding='same')(Z1)\n",
        "    #Z11op=tf.nn.dropout(Z11, rate = 0.2)\n",
        "    ## RELU\n",
        "    A1 = tfl.ReLU()(Z11)\n",
        "    ## MAXPOOL: window 8x8, stride 8, padding 'SAME'\n",
        "    P1 = tfl.MaxPooling1D(pool_size= 5,\n",
        "                       padding='same')(A1)\n",
        "   \n",
        "    ## CONV2D: 16 filters 3x3, stride 1, padding 'SAME'\n",
        "    Z2 = tfl.Conv1D(filters=15,\n",
        "                    kernel_size=15,\n",
        "                    strides=1,\n",
        "                    padding='same')(P1)\n",
        "    Z21 = tfl.Conv1D(filters=15,\n",
        "                    kernel_size=9,\n",
        "                    strides=1,\n",
        "                    padding='same')(Z2)\n",
        "    #Z21op=tf.nn.dropout(Z21, rate = 0.2)\n",
        "    ## RELU\n",
        "    A2 = tfl.ReLU()(Z21)\n",
        "    ## MAXPOOL: window 4x4, stride 4, padding 'SAME'\n",
        "    P2 = tfl.MaxPooling1D(pool_size=5,\n",
        "                       padding='same')(A2)\n",
        "    \n",
        "\n",
        "    Z3 = tfl.Conv1D(filters=10,\n",
        "                    kernel_size=15,\n",
        "                    strides=1,\n",
        "                    padding='same')(P2)\n",
        "    Z31 = tfl.Conv1D(filters=10,\n",
        "                    kernel_size=9,\n",
        "                    strides=1,\n",
        "                    padding='same')(Z3)\n",
        "    Z31=tf.nn.dropout(Z31, rate = 0.2)\n",
        "    ## RELU\n",
        "    A3 = tfl.ReLU()(Z31)\n",
        "    ## MAXPOOL: window 4x4, stride 4, padding 'SAME'\n",
        "    P3 = tfl.MaxPooling1D(pool_size=5,\n",
        "                       padding='same')(A3)\n",
        "\n",
        "\n",
        "    ## FLATTEN\n",
        "    F = tfl.Flatten()(P3)\n",
        "    ## Dense layer\n",
        "    op = tfl.Dense(units=128,\n",
        "                        activation='relu')(F)\n",
        "    op=tf.nn.dropout(op, rate = 0.2)\n",
        "\n",
        "    op1 = tfl.Dense(units=48,\n",
        "                        activation='relu')(op)\n",
        "\n",
        "    op2 = tfl.Dense(units=16,\n",
        "                        activation='relu')(op1)\n",
        "          \n",
        "    outputs = tfl.Dense(units=5,\n",
        "                        activation='softmax')(op2)\n",
        "\n",
        "    model = tf.keras.Model(inputs=input_img, outputs=outputs)\n",
        "\n",
        "    #compile\n",
        "    model.compile(optimizer = 'adam',\n",
        "                  loss='categorical_crossentropy',\n",
        "              metrics=['accuracy'])\n",
        "\n",
        "    model.summary()\n",
        "\n",
        "    early_stopping = EarlyStopping(monitor='val_loss', patience=15, verbose=2)\n",
        "    history_m = model.fit(x_train,y_train, epochs=200, validation_split =0.2, callbacks = [early_stopping], batch_size = 75, shuffle = True)\n",
        "\n",
        "    t=time()-start\n",
        "    print('Total training time:', t)\n",
        "    history_m.history['training_time']=t\n",
        "    \n",
        "    return model, history_m"
      ]
    },
    {
      "cell_type": "markdown",
      "metadata": {
        "id": "9Nk_Md-_Rtix"
      },
      "source": [
        "##Inception Model"
      ]
    },
    {
      "cell_type": "code",
      "execution_count": null,
      "metadata": {
        "id": "1494jVNdXRAs"
      },
      "outputs": [],
      "source": [
        "from tensorflow import keras\n",
        "from keras.callbacks import EarlyStopping\n",
        "from tensorflow import keras\n",
        "import tensorflow.keras.layers as tfl\n",
        "from tensorflow.keras.layers import *\n",
        "from tensorflow.keras.utils import *\n",
        "from time import time\n",
        "import tensorflow.keras.layers as tfl\n",
        "import matplotlib.pyplot as plt\n",
        "from keras.layers import Dropout\n",
        "from keras.utils.vis_utils import plot_model\n",
        "from keras.layers.merge import concatenate\n",
        "from time import time\n",
        "\n",
        "def disease_classification2(input_shape, x_train,y_train,test_data):\n",
        "    \"\"\"\n",
        "    \n",
        "    Arguments:\n",
        "    input_shape\n",
        "\n",
        "    Returns:\n",
        "    model -- TF Keras model (object containing the information for the entire training process) \n",
        "    history\n",
        "    \"\"\"\n",
        "\n",
        "    start = time()\n",
        "\n",
        "    input_img = tf.keras.Input(shape=input_shape)\n",
        "    ## CONV1D: 8 filters 4x4, stride of 1, padding 'SAME'\n",
        "    Z1 = tfl.Conv1D(filters=100,\n",
        "                    kernel_size=25,\n",
        "                    strides=1,\n",
        "                    padding='same')(input_img) \n",
        "    M1 = MaxPool1D()(Z1)\n",
        "    Z2 = tfl.Conv1D(filters=80,\n",
        "                    kernel_size=40,\n",
        "                    strides=1,\n",
        "                    padding='same')(M1) \n",
        "\n",
        "    M2 = MaxPool1D()(Z2)\n",
        "    Z3 = tfl.Conv1D(filters=60,\n",
        "                    kernel_size=30,\n",
        "                    strides=1,\n",
        "                    padding='same')(M2) \n",
        "\n",
        "    M3 = MaxPool1D()(Z3)\n",
        "\n",
        "    Z4 = tfl.Conv1D(filters=40,\n",
        "                    kernel_size=20,\n",
        "                    strides=1,\n",
        "                    padding='same')(M3) \n",
        "\n",
        "    M4 = MaxPool1D()(Z4)\n",
        "\n",
        "    gru = GRU(40, return_sequences=True)(M4)\n",
        "    gru1 = GRU(40, return_sequences=True)(gru)\n",
        "\n",
        "    gru1=tf.nn.dropout(gru1, rate = 0.25)\n",
        "    \n",
        "    F = tfl.Flatten()(gru1)\n",
        "    ## Dense layer\n",
        "  \n",
        "\n",
        "    \n",
        "    outputs = tfl.Dense(units=5,\n",
        "                        activation='softmax')(F)\n",
        "\n",
        "    model = tf.keras.Model(inputs=input_img, outputs=outputs)\n",
        "\n",
        "    #compile\n",
        "    model.compile(optimizer = 'adam',\n",
        "                  loss='categorical_crossentropy',\n",
        "              metrics=['accuracy'])\n",
        "\n",
        "    model.summary()\n",
        "\n",
        "    early_stopping = EarlyStopping(monitor='val_loss', patience=15, verbose=2)\n",
        "    history_m = model.fit(x_train,y_train, epochs=1, validation_split =0.2, callbacks = [early_stopping], batch_size = 75, shuffle = True)\n",
        "\n",
        "    t=time()-start\n",
        "    print('Total training time:', t)\n",
        "    history_m.history['training_time']=t\n",
        "    \n",
        "    return model, history_m\n"
      ]
    },
    {
      "cell_type": "code",
      "execution_count": null,
      "metadata": {
        "colab": {
          "base_uri": "https://localhost:8080/"
        },
        "id": "nlXrWtfxYYFp",
        "outputId": "9730a02b-4245-48a1-e680-5ba7a35d4bd9"
      },
      "outputs": [
        {
          "name": "stdout",
          "output_type": "stream",
          "text": [
            "Model: \"model_1\"\n",
            "_________________________________________________________________\n",
            " Layer (type)                Output Shape              Param #   \n",
            "=================================================================\n",
            " input_2 (InputLayer)        [(None, 1024, 1)]         0         \n",
            "                                                                 \n",
            " conv1d_4 (Conv1D)           (None, 1024, 100)         2600      \n",
            "                                                                 \n",
            " max_pooling1d_4 (MaxPooling  (None, 512, 100)         0         \n",
            " 1D)                                                             \n",
            "                                                                 \n",
            " conv1d_5 (Conv1D)           (None, 512, 80)           320080    \n",
            "                                                                 \n",
            " max_pooling1d_5 (MaxPooling  (None, 256, 80)          0         \n",
            " 1D)                                                             \n",
            "                                                                 \n",
            " conv1d_6 (Conv1D)           (None, 256, 60)           144060    \n",
            "                                                                 \n",
            " max_pooling1d_6 (MaxPooling  (None, 128, 60)          0         \n",
            " 1D)                                                             \n",
            "                                                                 \n",
            " conv1d_7 (Conv1D)           (None, 128, 40)           48040     \n",
            "                                                                 \n",
            " max_pooling1d_7 (MaxPooling  (None, 64, 40)           0         \n",
            " 1D)                                                             \n",
            "                                                                 \n",
            " gru_2 (GRU)                 (None, 64, 40)            9840      \n",
            "                                                                 \n",
            " gru_3 (GRU)                 (None, 64, 40)            9840      \n",
            "                                                                 \n",
            " tf.nn.dropout_2 (TFOpLambda  (None, 64, 40)           0         \n",
            " )                                                               \n",
            "                                                                 \n",
            " flatten_1 (Flatten)         (None, 2560)              0         \n",
            "                                                                 \n",
            " dense_1 (Dense)             (None, 5)                 12805     \n",
            "                                                                 \n",
            "=================================================================\n",
            "Total params: 547,265\n",
            "Trainable params: 547,265\n",
            "Non-trainable params: 0\n",
            "_________________________________________________________________\n",
            "Epoch 1/200\n",
            "408/408 [==============================] - 47s 92ms/step - loss: 1.6923 - accuracy: 0.2094 - val_loss: 1.6453 - val_accuracy: 0.2108\n",
            "Epoch 2/200\n",
            "408/408 [==============================] - 35s 87ms/step - loss: 1.6303 - accuracy: 0.2265 - val_loss: 1.6262 - val_accuracy: 0.2266\n",
            "Epoch 3/200\n",
            "408/408 [==============================] - 34s 84ms/step - loss: 1.6289 - accuracy: 0.2258 - val_loss: 1.6302 - val_accuracy: 0.2188\n",
            "Epoch 4/200\n",
            "408/408 [==============================] - 34s 84ms/step - loss: 1.6159 - accuracy: 0.2290 - val_loss: 1.6223 - val_accuracy: 0.2257\n",
            "Epoch 5/200\n",
            "408/408 [==============================] - 34s 84ms/step - loss: 1.6073 - accuracy: 0.2385 - val_loss: 1.6073 - val_accuracy: 0.2328\n",
            "Epoch 6/200\n",
            "408/408 [==============================] - 34s 84ms/step - loss: 1.6027 - accuracy: 0.2451 - val_loss: 1.6027 - val_accuracy: 0.2371\n",
            "Epoch 7/200\n",
            "408/408 [==============================] - 34s 84ms/step - loss: 1.6009 - accuracy: 0.2456 - val_loss: 1.6037 - val_accuracy: 0.2431\n",
            "Epoch 8/200\n",
            "408/408 [==============================] - 34s 84ms/step - loss: 1.5966 - accuracy: 0.2511 - val_loss: 1.6020 - val_accuracy: 0.2388\n",
            "Epoch 9/200\n",
            "408/408 [==============================] - 34s 84ms/step - loss: 1.5921 - accuracy: 0.2551 - val_loss: 1.6013 - val_accuracy: 0.2435\n",
            "Epoch 10/200\n",
            "408/408 [==============================] - 34s 84ms/step - loss: 1.5959 - accuracy: 0.2525 - val_loss: 1.5997 - val_accuracy: 0.2504\n",
            "Epoch 11/200\n",
            "408/408 [==============================] - 34s 84ms/step - loss: 1.5953 - accuracy: 0.2532 - val_loss: 1.5991 - val_accuracy: 0.2462\n",
            "Epoch 12/200\n",
            "408/408 [==============================] - 34s 84ms/step - loss: 1.5954 - accuracy: 0.2539 - val_loss: 1.5991 - val_accuracy: 0.2387\n",
            "Epoch 13/200\n",
            "408/408 [==============================] - 34s 84ms/step - loss: 1.5963 - accuracy: 0.2524 - val_loss: 1.5997 - val_accuracy: 0.2496\n",
            "Epoch 14/200\n",
            "408/408 [==============================] - 34s 84ms/step - loss: 1.5960 - accuracy: 0.2501 - val_loss: 1.6024 - val_accuracy: 0.2343\n",
            "Epoch 15/200\n",
            "408/408 [==============================] - 34s 84ms/step - loss: 1.6003 - accuracy: 0.2474 - val_loss: 1.5987 - val_accuracy: 0.2418\n",
            "Epoch 16/200\n",
            "408/408 [==============================] - 34s 84ms/step - loss: 1.5988 - accuracy: 0.2447 - val_loss: 1.6008 - val_accuracy: 0.2401\n",
            "Epoch 17/200\n",
            "408/408 [==============================] - 34s 84ms/step - loss: 1.5949 - accuracy: 0.2564 - val_loss: 1.5957 - val_accuracy: 0.2506\n",
            "Epoch 18/200\n",
            "408/408 [==============================] - 34s 84ms/step - loss: 1.5926 - accuracy: 0.2574 - val_loss: 1.5946 - val_accuracy: 0.2448\n",
            "Epoch 19/200\n",
            "408/408 [==============================] - 34s 84ms/step - loss: 1.5876 - accuracy: 0.2590 - val_loss: 1.6018 - val_accuracy: 0.2363\n",
            "Epoch 20/200\n",
            "408/408 [==============================] - 35s 85ms/step - loss: 1.5839 - accuracy: 0.2681 - val_loss: 1.5932 - val_accuracy: 0.2592\n",
            "Epoch 21/200\n",
            "408/408 [==============================] - 34s 84ms/step - loss: 1.5780 - accuracy: 0.2742 - val_loss: 1.5938 - val_accuracy: 0.2581\n",
            "Epoch 22/200\n",
            "408/408 [==============================] - 34s 84ms/step - loss: 1.5780 - accuracy: 0.2738 - val_loss: 1.5987 - val_accuracy: 0.2443\n",
            "Epoch 23/200\n",
            "408/408 [==============================] - 34s 84ms/step - loss: 1.5881 - accuracy: 0.2630 - val_loss: 1.5980 - val_accuracy: 0.2449\n",
            "Epoch 24/200\n",
            "408/408 [==============================] - 34s 84ms/step - loss: 1.5897 - accuracy: 0.2603 - val_loss: 1.5938 - val_accuracy: 0.2472\n",
            "Epoch 25/200\n",
            "408/408 [==============================] - 34s 84ms/step - loss: 1.5845 - accuracy: 0.2646 - val_loss: 1.5949 - val_accuracy: 0.2441\n",
            "Epoch 26/200\n",
            "408/408 [==============================] - 34s 84ms/step - loss: 1.5863 - accuracy: 0.2623 - val_loss: 1.5948 - val_accuracy: 0.2542\n",
            "Epoch 27/200\n",
            "408/408 [==============================] - 34s 83ms/step - loss: 1.5876 - accuracy: 0.2602 - val_loss: 1.5976 - val_accuracy: 0.2479\n",
            "Epoch 28/200\n",
            "408/408 [==============================] - 35s 85ms/step - loss: 1.5883 - accuracy: 0.2564 - val_loss: 1.5945 - val_accuracy: 0.2666\n",
            "Epoch 29/200\n",
            "408/408 [==============================] - 35s 85ms/step - loss: 1.5827 - accuracy: 0.2674 - val_loss: 1.5891 - val_accuracy: 0.2572\n",
            "Epoch 30/200\n",
            "408/408 [==============================] - 35s 85ms/step - loss: 1.5874 - accuracy: 0.2624 - val_loss: 1.5885 - val_accuracy: 0.2589\n",
            "Epoch 31/200\n",
            "408/408 [==============================] - 34s 84ms/step - loss: 1.5927 - accuracy: 0.2560 - val_loss: 1.5926 - val_accuracy: 0.2474\n",
            "Epoch 32/200\n",
            "408/408 [==============================] - 34s 84ms/step - loss: 1.5923 - accuracy: 0.2541 - val_loss: 1.5922 - val_accuracy: 0.2515\n",
            "Epoch 33/200\n",
            "408/408 [==============================] - 34s 84ms/step - loss: 1.5909 - accuracy: 0.2599 - val_loss: 1.5935 - val_accuracy: 0.2500\n",
            "Epoch 34/200\n",
            "408/408 [==============================] - 34s 84ms/step - loss: 1.5953 - accuracy: 0.2520 - val_loss: 1.5931 - val_accuracy: 0.2558\n",
            "Epoch 35/200\n",
            "408/408 [==============================] - 34s 84ms/step - loss: 1.5931 - accuracy: 0.2534 - val_loss: 1.5879 - val_accuracy: 0.2584\n",
            "Epoch 36/200\n",
            "408/408 [==============================] - 34s 84ms/step - loss: 1.5894 - accuracy: 0.2558 - val_loss: 1.5918 - val_accuracy: 0.2577\n",
            "Epoch 37/200\n",
            "408/408 [==============================] - 34s 84ms/step - loss: 1.5906 - accuracy: 0.2603 - val_loss: 1.5931 - val_accuracy: 0.2562\n",
            "Epoch 38/200\n",
            "408/408 [==============================] - 34s 84ms/step - loss: 1.5919 - accuracy: 0.2568 - val_loss: 1.5987 - val_accuracy: 0.2470\n",
            "Epoch 39/200\n",
            "408/408 [==============================] - 34s 84ms/step - loss: 1.5889 - accuracy: 0.2594 - val_loss: 1.5903 - val_accuracy: 0.2689\n",
            "Epoch 40/200\n",
            "408/408 [==============================] - 34s 84ms/step - loss: 1.5893 - accuracy: 0.2579 - val_loss: 1.5888 - val_accuracy: 0.2572\n",
            "Epoch 41/200\n",
            "408/408 [==============================] - 34s 84ms/step - loss: 1.5822 - accuracy: 0.2693 - val_loss: 1.5889 - val_accuracy: 0.2572\n",
            "Epoch 42/200\n",
            "408/408 [==============================] - 34s 83ms/step - loss: 1.5795 - accuracy: 0.2723 - val_loss: 1.5874 - val_accuracy: 0.2554\n",
            "Epoch 43/200\n",
            "408/408 [==============================] - 34s 84ms/step - loss: 1.5747 - accuracy: 0.2769 - val_loss: 1.5918 - val_accuracy: 0.2526\n",
            "Epoch 44/200\n",
            "408/408 [==============================] - 34s 84ms/step - loss: 1.5739 - accuracy: 0.2779 - val_loss: 1.5862 - val_accuracy: 0.2651\n",
            "Epoch 45/200\n",
            "408/408 [==============================] - 34s 84ms/step - loss: 1.5732 - accuracy: 0.2793 - val_loss: 1.5944 - val_accuracy: 0.2536\n",
            "Epoch 46/200\n",
            "408/408 [==============================] - 34s 84ms/step - loss: 1.5758 - accuracy: 0.2786 - val_loss: 1.5879 - val_accuracy: 0.2601\n",
            "Epoch 47/200\n",
            "408/408 [==============================] - 34s 84ms/step - loss: 1.5701 - accuracy: 0.2814 - val_loss: 1.5854 - val_accuracy: 0.2640\n",
            "Epoch 48/200\n",
            "408/408 [==============================] - 34s 84ms/step - loss: 1.5728 - accuracy: 0.2810 - val_loss: 1.5833 - val_accuracy: 0.2659\n",
            "Epoch 49/200\n",
            "408/408 [==============================] - 34s 84ms/step - loss: 1.5802 - accuracy: 0.2724 - val_loss: 1.5953 - val_accuracy: 0.2528\n",
            "Epoch 50/200\n",
            "408/408 [==============================] - 34s 84ms/step - loss: 1.5904 - accuracy: 0.2576 - val_loss: 1.5995 - val_accuracy: 0.2441\n",
            "Epoch 51/200\n",
            "408/408 [==============================] - 34s 84ms/step - loss: 1.5894 - accuracy: 0.2589 - val_loss: 1.5881 - val_accuracy: 0.2614\n",
            "Epoch 52/200\n",
            "408/408 [==============================] - 34s 84ms/step - loss: 1.5852 - accuracy: 0.2656 - val_loss: 1.5837 - val_accuracy: 0.2643\n",
            "Epoch 53/200\n",
            "408/408 [==============================] - 34s 84ms/step - loss: 1.5796 - accuracy: 0.2686 - val_loss: 1.5870 - val_accuracy: 0.2601\n",
            "Epoch 54/200\n",
            "408/408 [==============================] - 34s 84ms/step - loss: 1.5746 - accuracy: 0.2757 - val_loss: 1.5927 - val_accuracy: 0.2546\n",
            "Epoch 55/200\n",
            "408/408 [==============================] - 34s 84ms/step - loss: 1.5766 - accuracy: 0.2718 - val_loss: 1.5909 - val_accuracy: 0.2623\n",
            "Epoch 56/200\n",
            "252/408 [=================>............] - ETA: 12s - loss: 1.5783 - accuracy: 0.2755"
          ]
        }
      ],
      "source": [
        "conv_model,history = disease_classification2((1024,1), x_train1, y_train1, (x_test1,y_test1))"
      ]
    },
    {
      "cell_type": "code",
      "execution_count": null,
      "metadata": {
        "id": "kWaptx2gHpcW"
      },
      "outputs": [],
      "source": [
        "# GRADED FUNCTION: convolutional_model\n",
        "from tensorflow import keras\n",
        "import tensorflow.keras.layers as tfl\n",
        "from tensorflow.keras.layers import *\n",
        "from tensorflow.keras.utils import *\n",
        "from time import time\n",
        "from keras.callbacks import ModelCheckpoint\n",
        "\n",
        "# Architecture of the model\n",
        "def inception_module(layer, f1, f2, f3, f4):\n",
        "    conv1 = Conv1D(f1, 1, activation='relu', padding='same')(layer)\n",
        "    conv2 = Conv1D(f1, 1, activation='relu', padding='same')(layer)\n",
        "    conv3 = Conv1D(f1, 1, activation='relu', padding='same')(layer)\n",
        "    maxp = MaxPool1D(pool_size=3, strides=1, padding='same')(layer)\n",
        "\n",
        "    conv2 = Conv1D(f2, 3, activation='relu', padding='same')(conv2)\n",
        "    conv3 = Conv1D(f3, 5, activation='relu', padding='same')(conv3)\n",
        "    conv4 = Conv1D(f4, 1, activation='relu', padding='same')(maxp)\n",
        "\n",
        "    return Concatenate()([conv1, conv2, conv3, conv4])\n",
        "\n",
        "def build_incep(input_shape,  x_train,y_train,test_data):\n",
        "    start=time()\n",
        "    input_signal = Input(shape=input_shape)\n",
        "\n",
        "\n",
        "    incept = inception_module(input_signal, 16, 32, 64, 16)\n",
        "    conv = Conv1D(96, 5, activation='relu', padding='same')(incept)\n",
        "    conv = Conv1D(64, 3, activation='relu', padding='same')(conv)\n",
        "    gru = GRU(64, return_sequences=True)(conv)\n",
        "\n",
        "    maxp = MaxPool1D()(gru)\n",
        "\n",
        "    incept = inception_module(maxp, 8, 16, 32, 8)\n",
        "    conv = Conv1D(48, 5, activation='relu', padding='same')(incept)\n",
        "    conv = Conv1D(32, 3, activation='relu', padding='same')(conv)\n",
        "    gru = GRU(32, return_sequences=True)(conv)\n",
        "\n",
        "    maxp = MaxPool1D()(gru)\n",
        "\n",
        "\n",
        "    incept = inception_module(maxp, 2, 4, 8, 2)\n",
        "    conv = Conv1D(12, 5, activation='relu', padding='same')(incept)\n",
        "    conv = Conv1D(8, 3, activation='relu', padding='same')(conv)\n",
        "    gru = GRU(8, return_sequences=True)(conv)\n",
        "\n",
        "    flat = Flatten()(gru)\n",
        "    output = Dense(5, activation='softmax')(flat)\n",
        "\n",
        "\n",
        "    #if 'model' in globals() or 'model' in locals():\n",
        "    #    del model\n",
        "\n",
        "    model = keras.Model(inputs=input_signal, outputs=output)\n",
        "    model.summary()\n",
        "    init_weights = model.get_weights()\n",
        "    \n",
        "    #plot_model(model, show_shapes=True)\n",
        "\n",
        "    #compile\n",
        "    opt = tf.keras.optimizers.Adam( learning_rate=0.001, beta_1=0.9, beta_2=0.999, epsilon=1e-07)\n",
        "    model.load_weights(\"/content/drive/MyDrive/ML/Disease_classification/weights/day2/weights-improvement-24-0.80.hdf5\")\n",
        "    #compile\n",
        "    model.compile(optimizer = 'adam',\n",
        "                  loss='categorical_crossentropy',\n",
        "              metrics=['accuracy'])\n",
        "    \n",
        "    model.summary()\n",
        "\n",
        "    #filepath=\"/content/drive/MyDrive/ML/Disease_classification/weights/day2/weights-improvement-{epoch:02d}-{val_accuracy:.2f}.hdf5\"\n",
        "    #checkpoint = ModelCheckpoint(filepath, monitor='val_accuracy', verbose=1, save_best_only=True, mode='max')\n",
        "    #callbacks_list = [checkpoint]\n",
        "\n",
        "    early_stopping = keras.callbacks.EarlyStopping(monitor='val_loss', patience=15, verbose=2)\n",
        "    #history_m = model.fit(x_train,y_train, epochs=100, validation_split = 0.2, callbacks=[early_stopping,checkpoint] ,batch_size = 100, shuffle = True)\n",
        "\n",
        "    t=time()-start\n",
        "    print('Total training time:', t)\n",
        "    #history_m.history['time']=t\n",
        "    \n",
        "    return model"
      ]
    },
    {
      "cell_type": "code",
      "execution_count": null,
      "metadata": {
        "colab": {
          "base_uri": "https://localhost:8080/"
        },
        "id": "4OWKoOB-I8_a",
        "outputId": "178dfdad-9d81-4960-919d-554540b91803"
      },
      "outputs": [
        {
          "name": "stdout",
          "output_type": "stream",
          "text": [
            "Model: \"model_1\"\n",
            "__________________________________________________________________________________________________\n",
            " Layer (type)                   Output Shape         Param #     Connected to                     \n",
            "==================================================================================================\n",
            " input_2 (InputLayer)           [(None, 1024, 1)]    0           []                               \n",
            "                                                                                                  \n",
            " conv1d_25 (Conv1D)             (None, 1024, 16)     32          ['input_2[0][0]']                \n",
            "                                                                                                  \n",
            " conv1d_26 (Conv1D)             (None, 1024, 16)     32          ['input_2[0][0]']                \n",
            "                                                                                                  \n",
            " max_pooling1d_5 (MaxPooling1D)  (None, 1024, 1)     0           ['input_2[0][0]']                \n",
            "                                                                                                  \n",
            " conv1d_24 (Conv1D)             (None, 1024, 16)     32          ['input_2[0][0]']                \n",
            "                                                                                                  \n",
            " conv1d_27 (Conv1D)             (None, 1024, 32)     1568        ['conv1d_25[0][0]']              \n",
            "                                                                                                  \n",
            " conv1d_28 (Conv1D)             (None, 1024, 64)     5184        ['conv1d_26[0][0]']              \n",
            "                                                                                                  \n",
            " conv1d_29 (Conv1D)             (None, 1024, 16)     32          ['max_pooling1d_5[0][0]']        \n",
            "                                                                                                  \n",
            " concatenate_3 (Concatenate)    (None, 1024, 128)    0           ['conv1d_24[0][0]',              \n",
            "                                                                  'conv1d_27[0][0]',              \n",
            "                                                                  'conv1d_28[0][0]',              \n",
            "                                                                  'conv1d_29[0][0]']              \n",
            "                                                                                                  \n",
            " conv1d_30 (Conv1D)             (None, 1024, 96)     61536       ['concatenate_3[0][0]']          \n",
            "                                                                                                  \n",
            " conv1d_31 (Conv1D)             (None, 1024, 64)     18496       ['conv1d_30[0][0]']              \n",
            "                                                                                                  \n",
            " gru_3 (GRU)                    (None, 1024, 64)     24960       ['conv1d_31[0][0]']              \n",
            "                                                                                                  \n",
            " max_pooling1d_6 (MaxPooling1D)  (None, 512, 64)     0           ['gru_3[0][0]']                  \n",
            "                                                                                                  \n",
            " conv1d_33 (Conv1D)             (None, 512, 8)       520         ['max_pooling1d_6[0][0]']        \n",
            "                                                                                                  \n",
            " conv1d_34 (Conv1D)             (None, 512, 8)       520         ['max_pooling1d_6[0][0]']        \n",
            "                                                                                                  \n",
            " max_pooling1d_7 (MaxPooling1D)  (None, 512, 64)     0           ['max_pooling1d_6[0][0]']        \n",
            "                                                                                                  \n",
            " conv1d_32 (Conv1D)             (None, 512, 8)       520         ['max_pooling1d_6[0][0]']        \n",
            "                                                                                                  \n",
            " conv1d_35 (Conv1D)             (None, 512, 16)      400         ['conv1d_33[0][0]']              \n",
            "                                                                                                  \n",
            " conv1d_36 (Conv1D)             (None, 512, 32)      1312        ['conv1d_34[0][0]']              \n",
            "                                                                                                  \n",
            " conv1d_37 (Conv1D)             (None, 512, 8)       520         ['max_pooling1d_7[0][0]']        \n",
            "                                                                                                  \n",
            " concatenate_4 (Concatenate)    (None, 512, 64)      0           ['conv1d_32[0][0]',              \n",
            "                                                                  'conv1d_35[0][0]',              \n",
            "                                                                  'conv1d_36[0][0]',              \n",
            "                                                                  'conv1d_37[0][0]']              \n",
            "                                                                                                  \n",
            " conv1d_38 (Conv1D)             (None, 512, 48)      15408       ['concatenate_4[0][0]']          \n",
            "                                                                                                  \n",
            " conv1d_39 (Conv1D)             (None, 512, 32)      4640        ['conv1d_38[0][0]']              \n",
            "                                                                                                  \n",
            " gru_4 (GRU)                    (None, 512, 32)      6336        ['conv1d_39[0][0]']              \n",
            "                                                                                                  \n",
            " max_pooling1d_8 (MaxPooling1D)  (None, 256, 32)     0           ['gru_4[0][0]']                  \n",
            "                                                                                                  \n",
            " conv1d_41 (Conv1D)             (None, 256, 2)       66          ['max_pooling1d_8[0][0]']        \n",
            "                                                                                                  \n",
            " conv1d_42 (Conv1D)             (None, 256, 2)       66          ['max_pooling1d_8[0][0]']        \n",
            "                                                                                                  \n",
            " max_pooling1d_9 (MaxPooling1D)  (None, 256, 32)     0           ['max_pooling1d_8[0][0]']        \n",
            "                                                                                                  \n",
            " conv1d_40 (Conv1D)             (None, 256, 2)       66          ['max_pooling1d_8[0][0]']        \n",
            "                                                                                                  \n",
            " conv1d_43 (Conv1D)             (None, 256, 4)       28          ['conv1d_41[0][0]']              \n",
            "                                                                                                  \n",
            " conv1d_44 (Conv1D)             (None, 256, 8)       88          ['conv1d_42[0][0]']              \n",
            "                                                                                                  \n",
            " conv1d_45 (Conv1D)             (None, 256, 2)       66          ['max_pooling1d_9[0][0]']        \n",
            "                                                                                                  \n",
            " concatenate_5 (Concatenate)    (None, 256, 16)      0           ['conv1d_40[0][0]',              \n",
            "                                                                  'conv1d_43[0][0]',              \n",
            "                                                                  'conv1d_44[0][0]',              \n",
            "                                                                  'conv1d_45[0][0]']              \n",
            "                                                                                                  \n",
            " conv1d_46 (Conv1D)             (None, 256, 12)      972         ['concatenate_5[0][0]']          \n",
            "                                                                                                  \n",
            " conv1d_47 (Conv1D)             (None, 256, 8)       296         ['conv1d_46[0][0]']              \n",
            "                                                                                                  \n",
            " gru_5 (GRU)                    (None, 256, 8)       432         ['conv1d_47[0][0]']              \n",
            "                                                                                                  \n",
            " flatten_1 (Flatten)            (None, 2048)         0           ['gru_5[0][0]']                  \n",
            "                                                                                                  \n",
            " dense_1 (Dense)                (None, 5)            10245       ['flatten_1[0][0]']              \n",
            "                                                                                                  \n",
            "==================================================================================================\n",
            "Total params: 154,373\n",
            "Trainable params: 154,373\n",
            "Non-trainable params: 0\n",
            "__________________________________________________________________________________________________\n",
            "Model: \"model_1\"\n",
            "__________________________________________________________________________________________________\n",
            " Layer (type)                   Output Shape         Param #     Connected to                     \n",
            "==================================================================================================\n",
            " input_2 (InputLayer)           [(None, 1024, 1)]    0           []                               \n",
            "                                                                                                  \n",
            " conv1d_25 (Conv1D)             (None, 1024, 16)     32          ['input_2[0][0]']                \n",
            "                                                                                                  \n",
            " conv1d_26 (Conv1D)             (None, 1024, 16)     32          ['input_2[0][0]']                \n",
            "                                                                                                  \n",
            " max_pooling1d_5 (MaxPooling1D)  (None, 1024, 1)     0           ['input_2[0][0]']                \n",
            "                                                                                                  \n",
            " conv1d_24 (Conv1D)             (None, 1024, 16)     32          ['input_2[0][0]']                \n",
            "                                                                                                  \n",
            " conv1d_27 (Conv1D)             (None, 1024, 32)     1568        ['conv1d_25[0][0]']              \n",
            "                                                                                                  \n",
            " conv1d_28 (Conv1D)             (None, 1024, 64)     5184        ['conv1d_26[0][0]']              \n",
            "                                                                                                  \n",
            " conv1d_29 (Conv1D)             (None, 1024, 16)     32          ['max_pooling1d_5[0][0]']        \n",
            "                                                                                                  \n",
            " concatenate_3 (Concatenate)    (None, 1024, 128)    0           ['conv1d_24[0][0]',              \n",
            "                                                                  'conv1d_27[0][0]',              \n",
            "                                                                  'conv1d_28[0][0]',              \n",
            "                                                                  'conv1d_29[0][0]']              \n",
            "                                                                                                  \n",
            " conv1d_30 (Conv1D)             (None, 1024, 96)     61536       ['concatenate_3[0][0]']          \n",
            "                                                                                                  \n",
            " conv1d_31 (Conv1D)             (None, 1024, 64)     18496       ['conv1d_30[0][0]']              \n",
            "                                                                                                  \n",
            " gru_3 (GRU)                    (None, 1024, 64)     24960       ['conv1d_31[0][0]']              \n",
            "                                                                                                  \n",
            " max_pooling1d_6 (MaxPooling1D)  (None, 512, 64)     0           ['gru_3[0][0]']                  \n",
            "                                                                                                  \n",
            " conv1d_33 (Conv1D)             (None, 512, 8)       520         ['max_pooling1d_6[0][0]']        \n",
            "                                                                                                  \n",
            " conv1d_34 (Conv1D)             (None, 512, 8)       520         ['max_pooling1d_6[0][0]']        \n",
            "                                                                                                  \n",
            " max_pooling1d_7 (MaxPooling1D)  (None, 512, 64)     0           ['max_pooling1d_6[0][0]']        \n",
            "                                                                                                  \n",
            " conv1d_32 (Conv1D)             (None, 512, 8)       520         ['max_pooling1d_6[0][0]']        \n",
            "                                                                                                  \n",
            " conv1d_35 (Conv1D)             (None, 512, 16)      400         ['conv1d_33[0][0]']              \n",
            "                                                                                                  \n",
            " conv1d_36 (Conv1D)             (None, 512, 32)      1312        ['conv1d_34[0][0]']              \n",
            "                                                                                                  \n",
            " conv1d_37 (Conv1D)             (None, 512, 8)       520         ['max_pooling1d_7[0][0]']        \n",
            "                                                                                                  \n",
            " concatenate_4 (Concatenate)    (None, 512, 64)      0           ['conv1d_32[0][0]',              \n",
            "                                                                  'conv1d_35[0][0]',              \n",
            "                                                                  'conv1d_36[0][0]',              \n",
            "                                                                  'conv1d_37[0][0]']              \n",
            "                                                                                                  \n",
            " conv1d_38 (Conv1D)             (None, 512, 48)      15408       ['concatenate_4[0][0]']          \n",
            "                                                                                                  \n",
            " conv1d_39 (Conv1D)             (None, 512, 32)      4640        ['conv1d_38[0][0]']              \n",
            "                                                                                                  \n",
            " gru_4 (GRU)                    (None, 512, 32)      6336        ['conv1d_39[0][0]']              \n",
            "                                                                                                  \n",
            " max_pooling1d_8 (MaxPooling1D)  (None, 256, 32)     0           ['gru_4[0][0]']                  \n",
            "                                                                                                  \n",
            " conv1d_41 (Conv1D)             (None, 256, 2)       66          ['max_pooling1d_8[0][0]']        \n",
            "                                                                                                  \n",
            " conv1d_42 (Conv1D)             (None, 256, 2)       66          ['max_pooling1d_8[0][0]']        \n",
            "                                                                                                  \n",
            " max_pooling1d_9 (MaxPooling1D)  (None, 256, 32)     0           ['max_pooling1d_8[0][0]']        \n",
            "                                                                                                  \n",
            " conv1d_40 (Conv1D)             (None, 256, 2)       66          ['max_pooling1d_8[0][0]']        \n",
            "                                                                                                  \n",
            " conv1d_43 (Conv1D)             (None, 256, 4)       28          ['conv1d_41[0][0]']              \n",
            "                                                                                                  \n",
            " conv1d_44 (Conv1D)             (None, 256, 8)       88          ['conv1d_42[0][0]']              \n",
            "                                                                                                  \n",
            " conv1d_45 (Conv1D)             (None, 256, 2)       66          ['max_pooling1d_9[0][0]']        \n",
            "                                                                                                  \n",
            " concatenate_5 (Concatenate)    (None, 256, 16)      0           ['conv1d_40[0][0]',              \n",
            "                                                                  'conv1d_43[0][0]',              \n",
            "                                                                  'conv1d_44[0][0]',              \n",
            "                                                                  'conv1d_45[0][0]']              \n",
            "                                                                                                  \n",
            " conv1d_46 (Conv1D)             (None, 256, 12)      972         ['concatenate_5[0][0]']          \n",
            "                                                                                                  \n",
            " conv1d_47 (Conv1D)             (None, 256, 8)       296         ['conv1d_46[0][0]']              \n",
            "                                                                                                  \n",
            " gru_5 (GRU)                    (None, 256, 8)       432         ['conv1d_47[0][0]']              \n",
            "                                                                                                  \n",
            " flatten_1 (Flatten)            (None, 2048)         0           ['gru_5[0][0]']                  \n",
            "                                                                                                  \n",
            " dense_1 (Dense)                (None, 5)            10245       ['flatten_1[0][0]']              \n",
            "                                                                                                  \n",
            "==================================================================================================\n",
            "Total params: 154,373\n",
            "Trainable params: 154,373\n",
            "Non-trainable params: 0\n",
            "__________________________________________________________________________________________________\n",
            "Total training time: 2.058302402496338\n"
          ]
        }
      ],
      "source": [
        "incep_model = build_incep((1024,1), x_train1, y_train1, (x_test1,y_test1))"
      ]
    },
    {
      "cell_type": "code",
      "execution_count": null,
      "metadata": {
        "colab": {
          "base_uri": "https://localhost:8080/",
          "height": 421
        },
        "id": "t_cmn8CWIwDR",
        "outputId": "404087fc-e601-4828-c380-674a8c32ac29"
      },
      "outputs": [
        {
          "name": "stdout",
          "output_type": "stream",
          "text": [
            "{'matrix': array([[1620,   76,   85,   51,  116],\n",
            "       [  51, 1591,   92,   39,   88],\n",
            "       [  62,   53, 1538,  181,   79],\n",
            "       [  17,    8,   48, 1786,   44],\n",
            "       [ 109,   53,  123,  173, 1475]]), 'kappa': 0.7975529685638654, 'accuracy': 0.8380414312617702, 'precision': array([0.87143626, 0.89331836, 0.8154825 , 0.80089686, 0.81853496]), 'recall': array([0.83162218, 0.85491671, 0.80397282, 0.93851813, 0.7630626 ])}\n",
            "299/299 [==============================] - 11s 28ms/step - loss: 0.4524 - accuracy: 0.8380\n",
            "Accuracy 83.80414247512817\n"
          ]
        },
        {
          "data": {
            "image/png": "[encoded data removed]",
            "text/plain": [
              "<Figure size 432x288 with 2 Axes>"
            ]
          },
          "metadata": {},
          "output_type": "display_data"
        }
      ],
      "source": [
        "from sklearn import metrics\n",
        " \n",
        "def analysis(actual, predict, classes):   \n",
        "    real = np.zeros(actual.shape[0], dtype=int) \n",
        "    pred = np.zeros(predict.shape[0], dtype=int)            \n",
        "    \n",
        "    for i in range(predict.shape[0]):\n",
        "        real[i] = np.argmax(actual[i])  \n",
        "        pred[i] = np.argmax(predict[i]) \n",
        " \n",
        "    param = {'matrix': metrics.confusion_matrix(real, pred),           \n",
        "            'kappa': metrics.cohen_kappa_score(real, pred),      \n",
        "            'accuracy': metrics.accuracy_score(real, pred),         \n",
        "            }\n",
        "    precision = []\n",
        "    recall = []\n",
        "    for i in range(classes):\n",
        "        precision.append(param['matrix'][i,i] / sum(param['matrix'][:, i]))               \n",
        "        recall.append(param['matrix'][i,i] / sum(param['matrix'][i, :]))         \n",
        "    param['precision'] = np.array(precision)   \n",
        "    param['recall'] = np.array(recall)  \n",
        "\n",
        "    return param, real, pred  \n",
        "\n",
        "pred = incep_model.predict(x_test1)  \n",
        "#(loss, acc) = resnet_model.evaluate(x_test1, y_test1)   \n",
        "\n",
        "results, real, prediction = analysis(y_test1, pred, 5)        \n",
        "print(results)\n",
        "\n",
        "(loss, acc) = incep_model.evaluate(x_test1, y_test1)\n",
        "print(\"Accuracy\", acc*100)\n",
        "\n",
        "labels = [\"ins\", \"nfle\", \"narco\", \"rbd\", \"plm\"]\n",
        "\n",
        "disp = metrics.ConfusionMatrixDisplay(confusion_matrix=results['matrix'], display_labels=labels)\n",
        "disp.plot()\n"
      ]
    },
    {
      "cell_type": "markdown",
      "metadata": {
        "id": "Szpx4I7B_IaB"
      },
      "source": [
        "\n",
        "\n",
        "## Skip Connection"
      ]
    },
    {
      "cell_type": "code",
      "execution_count": null,
      "metadata": {
        "id": "3Vpf62wswa-8"
      },
      "outputs": [],
      "source": [
        "# GRADED FUNCTION: convolutional_model\n",
        "import tensorflow as tf\n",
        "from keras.callbacks import EarlyStopping\n",
        "import tensorflow.keras.layers as tfl\n",
        "import matplotlib.pyplot as plt\n",
        "from keras.layers import Dropout\n",
        "from keras.utils.vis_utils import plot_model\n",
        "from keras.layers.merge import concatenate\n",
        "from tensorflow import keras\n",
        "from time import time\n",
        "\n",
        "def skip_model(input_shape, x_train,y_train,test_data):\n",
        "    i = 0\n",
        "    skips = []\n",
        "    start = time()\n",
        "    input_img = tf.keras.Input(shape=input_shape)\n",
        "    ## CONV1D: 8 filters 4x4, stride of 1, padding 'SAME'\n",
        "    Z11 = tfl.Conv1D(filters=32,\n",
        "                    kernel_size=7,\n",
        "                    strides=1,\n",
        "                    padding='same')(input_img)\n",
        "    Z12  = tfl.BatchNormalization()(Z11)\n",
        "    Z13 = tfl.ReLU()(Z12)\n",
        "    skips.append(Z13)\n",
        "\n",
        "\n",
        "    Z21 = tfl.Conv1D(filters=32,\n",
        "                    kernel_size=7,\n",
        "                    strides=1,\n",
        "                    padding='same')(Z13)\n",
        "    Z22  = tfl.BatchNormalization()(Z21)\n",
        "    Z23 = tfl.ReLU()(Z22)\n",
        "    Z24 = tfl.Conv1D(filters = 32, kernel_size = 9, strides = 1 , padding = 'same')(Z23)\n",
        "    skip = skips[i]\n",
        "    i = i+1\n",
        "    x = tfl.Concatenate()([Z24, skip])\n",
        "    skips.append(x)\n",
        "\n",
        "    \n",
        "    Z31  = tfl.BatchNormalization()(x)\n",
        "    Z32  = tfl.ReLU()(Z31)\n",
        "\n",
        "    #Z1=tf.nn.dropout(Z1, rate = 0.3)\n",
        "    Z33 = tfl.Conv1D(filters=16,\n",
        "                    kernel_size=9,\n",
        "                    strides=1,\n",
        "                    padding='same')(Z32)\n",
        "    Z34 = tfl.MaxPooling1D(pool_size = 2 , padding = 'same')(Z33)\n",
        "    Z35 = tfl.BatchNormalization()(Z34)\n",
        "    Z36 = tfl.ReLU()(Z35)\n",
        "\n",
        "    A1 = tfl.Conv1D(filters=16,\n",
        "                    kernel_size=9,\n",
        "                    strides=1,\n",
        "                    padding='same')(Z36)\n",
        "\n",
        "    Z41 = tfl.Conv1D(filters=32,\n",
        "                    kernel_size=7,\n",
        "                    strides=1,\n",
        "                    padding='same')(A1)\n",
        "    Z42  = tfl.BatchNormalization()(Z41)\n",
        "    Z43 = tfl.ReLU()(Z42)\n",
        "\n",
        "    skips.append(Z43)\n",
        "\n",
        "\n",
        "    Z51 = tfl.Conv1D(filters=32,\n",
        "                    kernel_size=7,\n",
        "                    strides=1,\n",
        "                    padding='same')(A1)\n",
        "    Z52  = tfl.BatchNormalization()(Z51)\n",
        "    Z53 = tfl.ReLU()(Z52)\n",
        "    Z54 = tfl.Conv1D(filters = 32, kernel_size = 9, strides = 1 , padding = 'same')(Z53)\n",
        "    skip = skips[2]\n",
        "    i = i+1\n",
        "    x = tfl.Concatenate()([Z54, skip])\n",
        "    skips.append(x)\n",
        "    \n",
        "    # x = tfl.Concatenate()([Z37, Z42])\n",
        "    ## RELU\n",
        "    ## MAXPOOL: window 8x8, stride 8, padding 'SAME'\n",
        "    P1 = tfl.AveragePooling1D(pool_size= 16,\n",
        "                       padding='same')(x)\n",
        "    #P1=tf.nn.dropout(P1, rate = 0.3)\n",
        "\n",
        "\n",
        "    Z1 = tfl.Conv1D(filters=32,\n",
        "                    kernel_size=9,\n",
        "                    strides=1,\n",
        "                    padding='same')(P1)\n",
        "    #Z1=tf.nn.dropout(Z1, rate = 0.3)\n",
        "    Z11 = tfl.Conv1D(filters=12,\n",
        "                    kernel_size=7,\n",
        "                    strides=1,\n",
        "                    padding='same')(Z1)\n",
        "    ## RELU\n",
        "    A1 = tfl.ReLU()(Z11)\n",
        "    ## MAXPOOL: window 8x8, stride 8, padding 'SAME'\n",
        "    P1 = tfl.MaxPooling1D(pool_size= 8,\n",
        "                       padding='same')(A1)\n",
        "   \n",
        "    ## CONV2D: 16 filters 3x3, stride 1, padding 'SAME'\n",
        "    Z2 = tfl.Conv1D(filters=16,\n",
        "                    kernel_size=5,\n",
        "                    strides=1,\n",
        "                    padding='same')(P1)\n",
        "    #Z2=tf.nn.dropout(Z2, rate = 0.4)\n",
        "    Z21 = tfl.Conv1D(filters=8,\n",
        "                    kernel_size=3,\n",
        "                    strides=1,\n",
        "                    padding='same')(Z2)\n",
        "    ## RELU\n",
        "    A2 = tfl.ReLU()(Z21)\n",
        "    ## MAXPOOL: window 4x4, stride 4, padding 'SAME'\n",
        "    P2 = tfl.MaxPooling1D(pool_size=4,\n",
        "                       padding='same')(A2)\n",
        "\n",
        "    Z3 = tfl.Conv1D(filters=8,\n",
        "                    kernel_size=5,\n",
        "                    strides=1,\n",
        "                    padding='same')(P2)\n",
        "    Z3=tf.nn.dropout(Z3, rate = 0.2)\n",
        "    Z31 = tfl.Conv1D(filters=4,\n",
        "                    kernel_size=3,\n",
        "                    strides=1,\n",
        "                    padding='same')(Z3)\n",
        "    ## RELU\n",
        "    A3 = tfl.ReLU()(Z31)\n",
        "    ## MAXPOOL: window 8x8, stride 8, padding 'SAME'\n",
        "    P3 = tfl.MaxPooling1D(pool_size= 4,\n",
        "                       padding='same')(A3)\n",
        "\n",
        "    ## FLATTEN\n",
        "    F = tfl.Flatten()(P3)\n",
        "    ## Dense layer\n",
        "    op = tfl.Dense(units=55,\n",
        "                        activation='relu')(F)\n",
        "\n",
        "    op1 = tfl.Dense(units=16,\n",
        "                        activation='relu')(F)\n",
        "\n",
        "          \n",
        "    outputs = tfl.Dense(units=5,\n",
        "                        activation='softmax')(op1)\n",
        "\n",
        "    model = tf.keras.Model(inputs=input_img, outputs=outputs)\n",
        "\n",
        "    #compile\n",
        "    model.compile(optimizer = 'adam',\n",
        "                  loss='categorical_crossentropy',\n",
        "              metrics=['CategoricalAccuracy'])\n",
        "\n",
        "    model.summary()\n",
        "\n",
        "    early_stopping = EarlyStopping(monitor='val_loss', patience=30, verbose=2)\n",
        "    history_m = model.fit(x_train,y_train, epochs=1, validation_split =0.2, callbacks = [early_stopping], batch_size = 100, shuffle = True)\n",
        "\n",
        "    t=time()-start\n",
        "    print('Total training time:', t)\n",
        "    history_m.history['training_time']=t\n",
        "\n",
        "    # filepath=\"/content/drive/MyDrive/ML/Disease_classification/weights/weights-improvement-{epoch:02d}-{val_accuracy:.2f}.hdf5\"\n",
        "    # checkpoint = ModelCheckpoint(filepath, monitor='val_accuracy', verbose=1, save_best_only=True, mode='max')\n",
        "    \n",
        "    return model, history_m"
      ]
    },
    {
      "cell_type": "code",
      "execution_count": null,
      "metadata": {
        "colab": {
          "base_uri": "https://localhost:8080/"
        },
        "id": "qacUf8OHifYx",
        "outputId": "d0003f18-4de2-4894-aaee-2ed7f9a727ac"
      },
      "outputs": [
        {
          "name": "stdout",
          "output_type": "stream",
          "text": [
            "Model: \"model\"\n",
            "__________________________________________________________________________________________________\n",
            " Layer (type)                   Output Shape         Param #     Connected to                     \n",
            "==================================================================================================\n",
            " input_1 (InputLayer)           [(None, 1024, 1)]    0           []                               \n",
            "                                                                                                  \n",
            " conv1d (Conv1D)                (None, 1024, 32)     256         ['input_1[0][0]']                \n",
            "                                                                                                  \n",
            " batch_normalization (BatchNorm  (None, 1024, 32)    128         ['conv1d[0][0]']                 \n",
            " alization)                                                                                       \n",
            "                                                                                                  \n",
            " re_lu (ReLU)                   (None, 1024, 32)     0           ['batch_normalization[0][0]']    \n",
            "                                                                                                  \n",
            " conv1d_1 (Conv1D)              (None, 1024, 32)     7200        ['re_lu[0][0]']                  \n",
            "                                                                                                  \n",
            " batch_normalization_1 (BatchNo  (None, 1024, 32)    128         ['conv1d_1[0][0]']               \n",
            " rmalization)                                                                                     \n",
            "                                                                                                  \n",
            " re_lu_1 (ReLU)                 (None, 1024, 32)     0           ['batch_normalization_1[0][0]']  \n",
            "                                                                                                  \n",
            " conv1d_2 (Conv1D)              (None, 1024, 32)     9248        ['re_lu_1[0][0]']                \n",
            "                                                                                                  \n",
            " concatenate (Concatenate)      (None, 1024, 64)     0           ['conv1d_2[0][0]',               \n",
            "                                                                  're_lu[0][0]']                  \n",
            "                                                                                                  \n",
            " batch_normalization_2 (BatchNo  (None, 1024, 64)    256         ['concatenate[0][0]']            \n",
            " rmalization)                                                                                     \n",
            "                                                                                                  \n",
            " re_lu_2 (ReLU)                 (None, 1024, 64)     0           ['batch_normalization_2[0][0]']  \n",
            "                                                                                                  \n",
            " conv1d_3 (Conv1D)              (None, 1024, 16)     9232        ['re_lu_2[0][0]']                \n",
            "                                                                                                  \n",
            " max_pooling1d (MaxPooling1D)   (None, 512, 16)      0           ['conv1d_3[0][0]']               \n",
            "                                                                                                  \n",
            " batch_normalization_3 (BatchNo  (None, 512, 16)     64          ['max_pooling1d[0][0]']          \n",
            " rmalization)                                                                                     \n",
            "                                                                                                  \n",
            " re_lu_3 (ReLU)                 (None, 512, 16)      0           ['batch_normalization_3[0][0]']  \n",
            "                                                                                                  \n",
            " conv1d_4 (Conv1D)              (None, 512, 16)      2320        ['re_lu_3[0][0]']                \n",
            "                                                                                                  \n",
            " conv1d_6 (Conv1D)              (None, 512, 32)      3616        ['conv1d_4[0][0]']               \n",
            "                                                                                                  \n",
            " batch_normalization_5 (BatchNo  (None, 512, 32)     128         ['conv1d_6[0][0]']               \n",
            " rmalization)                                                                                     \n",
            "                                                                                                  \n",
            " conv1d_5 (Conv1D)              (None, 512, 32)      3616        ['conv1d_4[0][0]']               \n",
            "                                                                                                  \n",
            " re_lu_5 (ReLU)                 (None, 512, 32)      0           ['batch_normalization_5[0][0]']  \n",
            "                                                                                                  \n",
            " batch_normalization_4 (BatchNo  (None, 512, 32)     128         ['conv1d_5[0][0]']               \n",
            " rmalization)                                                                                     \n",
            "                                                                                                  \n",
            " conv1d_7 (Conv1D)              (None, 512, 32)      9248        ['re_lu_5[0][0]']                \n",
            "                                                                                                  \n",
            " re_lu_4 (ReLU)                 (None, 512, 32)      0           ['batch_normalization_4[0][0]']  \n",
            "                                                                                                  \n",
            " concatenate_1 (Concatenate)    (None, 512, 64)      0           ['conv1d_7[0][0]',               \n",
            "                                                                  're_lu_4[0][0]']                \n",
            "                                                                                                  \n",
            " average_pooling1d (AveragePool  (None, 32, 64)      0           ['concatenate_1[0][0]']          \n",
            " ing1D)                                                                                           \n",
            "                                                                                                  \n",
            " conv1d_8 (Conv1D)              (None, 32, 32)       18464       ['average_pooling1d[0][0]']      \n",
            "                                                                                                  \n",
            " conv1d_9 (Conv1D)              (None, 32, 12)       2700        ['conv1d_8[0][0]']               \n",
            "                                                                                                  \n",
            " re_lu_6 (ReLU)                 (None, 32, 12)       0           ['conv1d_9[0][0]']               \n",
            "                                                                                                  \n",
            " max_pooling1d_1 (MaxPooling1D)  (None, 4, 12)       0           ['re_lu_6[0][0]']                \n",
            "                                                                                                  \n",
            " conv1d_10 (Conv1D)             (None, 4, 16)        976         ['max_pooling1d_1[0][0]']        \n",
            "                                                                                                  \n",
            " conv1d_11 (Conv1D)             (None, 4, 8)         392         ['conv1d_10[0][0]']              \n",
            "                                                                                                  \n",
            " re_lu_7 (ReLU)                 (None, 4, 8)         0           ['conv1d_11[0][0]']              \n",
            "                                                                                                  \n",
            " max_pooling1d_2 (MaxPooling1D)  (None, 1, 8)        0           ['re_lu_7[0][0]']                \n",
            "                                                                                                  \n",
            " conv1d_12 (Conv1D)             (None, 1, 8)         328         ['max_pooling1d_2[0][0]']        \n",
            "                                                                                                  \n",
            " tf.nn.dropout (TFOpLambda)     (None, 1, 8)         0           ['conv1d_12[0][0]']              \n",
            "                                                                                                  \n",
            " conv1d_13 (Conv1D)             (None, 1, 4)         100         ['tf.nn.dropout[0][0]']          \n",
            "                                                                                                  \n",
            " re_lu_8 (ReLU)                 (None, 1, 4)         0           ['conv1d_13[0][0]']              \n",
            "                                                                                                  \n",
            " max_pooling1d_3 (MaxPooling1D)  (None, 1, 4)        0           ['re_lu_8[0][0]']                \n",
            "                                                                                                  \n",
            " flatten (Flatten)              (None, 4)            0           ['max_pooling1d_3[0][0]']        \n",
            "                                                                                                  \n",
            " dense_1 (Dense)                (None, 16)           80          ['flatten[0][0]']                \n",
            "                                                                                                  \n",
            " dense_2 (Dense)                (None, 5)            85          ['dense_1[0][0]']                \n",
            "                                                                                                  \n",
            "==================================================================================================\n",
            "Total params: 68,693\n",
            "Trainable params: 68,277\n",
            "Non-trainable params: 416\n",
            "__________________________________________________________________________________________________\n",
            "306/306 [==============================] - 44s 84ms/step - loss: 1.4958 - categorical_accuracy: 0.3096 - val_loss: 1.4379 - val_categorical_accuracy: 0.3485\n",
            "Total training time: 50.533894300460815\n"
          ]
        }
      ],
      "source": [
        " model, history_m = skip_model((1024,1), x_train1, y_train1, (x_test1, y_test1))"
      ]
    },
    {
      "cell_type": "code",
      "execution_count": null,
      "metadata": {
        "id": "sJtNGpbfizsq"
      },
      "outputs": [],
      "source": [
        "from tensorflow import keras\n",
        "model1 = keras.models.load_model(\"model_skip_D70.h5\")"
      ]
    },
    {
      "cell_type": "code",
      "execution_count": null,
      "metadata": {
        "colab": {
          "base_uri": "https://localhost:8080/",
          "height": 440
        },
        "id": "psjmZUBfio8X",
        "outputId": "67938619-3fb3-45ef-9242-abea8dc1250c"
      },
      "outputs": [
        {
          "name": "stdout",
          "output_type": "stream",
          "text": [
            "[[ 976   83   46   91  712]\n",
            " [  48 1448   88   34  261]\n",
            " [  27  105 1316  174  317]\n",
            " [   1   14   30 1841   89]\n",
            " [  22   24   40  190 1581]]\n",
            "Acc 0.7493199414103369\n",
            "Precision [0.90875233 0.86499403 0.86578947 0.79012876 0.53412162]\n",
            "Recall [0.5115304  0.77062267 0.67870036 0.9321519  0.85137318]\n"
          ]
        },
        {
          "data": {
            "text/plain": [
              "<sklearn.metrics._plot.confusion_matrix.ConfusionMatrixDisplay at 0x7fc8d0388310>"
            ]
          },
          "execution_count": 10,
          "metadata": {},
          "output_type": "execute_result"
        },
        {
          "data": {
            "image/png": "[encoded data removed]",
            "text/plain": [
              "<Figure size 432x288 with 2 Axes>"
            ]
          },
          "metadata": {},
          "output_type": "display_data"
        }
      ],
      "source": [
        "from sklearn import metrics\n",
        " \n",
        "def analysis(actual, predict, classes):   \n",
        "    real = np.zeros(actual.shape[0], dtype=int) \n",
        "    pred = np.zeros(predict.shape[0], dtype=int)            \n",
        "    \n",
        "    for i in range(predict.shape[0]):\n",
        "        real[i] = np.argmax(actual[i])  \n",
        "        pred[i] = np.argmax(predict[i]) \n",
        " \n",
        "    param = {'matrix': metrics.confusion_matrix(real, pred),           \n",
        "            'kappa': metrics.cohen_kappa_score(real, pred),      \n",
        "            'accuracy': metrics.accuracy_score(real, pred),         \n",
        "            }\n",
        "    precision = []\n",
        "    recall = []\n",
        "    for i in range(classes):\n",
        "        precision.append(param['matrix'][i,i] / sum(param['matrix'][:, i]))               \n",
        "        recall.append(param['matrix'][i,i] / sum(param['matrix'][i, :]))         \n",
        "    param['precision'] = np.array(precision)   \n",
        "    param['recall'] = np.array(recall)  \n",
        "\n",
        "    return param, real, pred  \n",
        "\n",
        "pred = model1.predict(x_test1)  \n",
        "#(loss, acc) = resnet_model.evaluate(x_test1, y_test1)   \n",
        "\n",
        "results, real, prediction = analysis(y_test1, pred, 5)        \n",
        "print(results['matrix'])\n",
        "print(\"Acc\",results['accuracy'])\n",
        "print(\"Precision\",results['precision'])\n",
        "print(\"Recall\",results['recall'])\n",
        "\n",
        "\n",
        "labels =  [\"narco\",\"ins\",\"nfle\",\"plm\",\"rbd\"]\n",
        "\n",
        "\n",
        "disp = metrics.ConfusionMatrixDisplay(confusion_matrix=results['matrix'], display_labels=labels)\n",
        "disp.plot()"
      ]
    },
    {
      "cell_type": "markdown",
      "metadata": {
        "id": "QEK2hQhG_Oc_"
      },
      "source": [
        "##LSTM Model"
      ]
    },
    {
      "cell_type": "code",
      "execution_count": null,
      "metadata": {
        "id": "NlKrxidG7gCx"
      },
      "outputs": [],
      "source": [
        "bal_all = np.loadtxt('/content/drive/MyDrive/FYP/combine_classification/dataset/both_phases.csv', delimiter=',')"
      ]
    },
    {
      "cell_type": "code",
      "execution_count": null,
      "metadata": {
        "colab": {
          "base_uri": "https://localhost:8080/"
        },
        "id": "Zn4oTM5x8QdW",
        "outputId": "56f632b3-6640-445b-d53d-73eb3d82b291"
      },
      "outputs": [
        {
          "name": "stdout",
          "output_type": "stream",
          "text": [
            "(47790, 1024)\n",
            "(47790,)\n",
            "(47790, 1)\n",
            "0.0\n",
            "[1. 0. 0. 0. 0.]\n"
          ]
        }
      ],
      "source": [
        "x_bal = bal_all[:,0:1024]\n",
        "y_disease = bal_all[:,-1]\n",
        "print(np.shape(x_bal))\n",
        "print(np.shape(y_disease))\n",
        "y_disease=y_disease.reshape(-1,1 )\n",
        "print(np.shape(y_disease))\n",
        "\n",
        "from sklearn.model_selection import train_test_split \n",
        "from sklearn.preprocessing import OneHotEncoder\n",
        "\n",
        "print(y_disease[8500,0])\n",
        "enc = OneHotEncoder(handle_unknown='ignore')\n",
        "# 2. FIT\n",
        "enc.fit(y_disease)\n",
        "\n",
        "# 3. Transform\n",
        "onehotlabels = enc.transform(y_disease).toarray()\n",
        "\n",
        "print(onehotlabels[8500])\n",
        "\n",
        "x_train1, x_test1, y_train1, y_test1 = train_test_split(x_bal, onehotlabels, test_size = 0.2, shuffle = True)"
      ]
    },
    {
      "cell_type": "code",
      "execution_count": null,
      "metadata": {
        "colab": {
          "base_uri": "https://localhost:8080/"
        },
        "id": "wyxzlaLuRJYU",
        "outputId": "556a71da-78ca-4dca-a9f1-550708f9f18e"
      },
      "outputs": [
        {
          "name": "stdout",
          "output_type": "stream",
          "text": [
            "Model: \"sequential\"\n",
            "_________________________________________________________________\n",
            " Layer (type)                Output Shape              Param #   \n",
            "=================================================================\n",
            " conv1d (Conv1D)             (None, 1024, 32)          256       \n",
            "                                                                 \n",
            " conv1d_1 (Conv1D)           (None, 1024, 16)          4624      \n",
            "                                                                 \n",
            " conv1d_2 (Conv1D)           (None, 1024, 32)          2592      \n",
            "                                                                 \n",
            " lstm (LSTM)                 (None, 100)               53200     \n",
            "                                                                 \n",
            " dense (Dense)               (None, 5)                 505       \n",
            "                                                                 \n",
            "=================================================================\n",
            "Total params: 61,177\n",
            "Trainable params: 61,177\n",
            "Non-trainable params: 0\n",
            "_________________________________________________________________\n",
            "None\n",
            "306/306 [==============================] - 32s 67ms/step - loss: 1.5609 - categorical_accuracy: 0.2837 - val_loss: 1.5625 - val_categorical_accuracy: 0.2972\n",
            "Total training time: 35.7595739364624\n",
            "Accuracy: 29.76%\n"
          ]
        }
      ],
      "source": [
        "# LSTM and CNN for sequence classification in the IMDB dataset\n",
        "import numpy\n",
        "from keras.datasets import imdb\n",
        "from keras.models import Sequential\n",
        "from keras.layers import Dense\n",
        "from keras.layers import LSTM\n",
        "from keras.layers.convolutional import Conv1D\n",
        "from keras.layers.convolutional import MaxPooling1D\n",
        "from keras.callbacks import EarlyStopping\n",
        "\n",
        "from keras.layers.embeddings import Embedding\n",
        "from keras.preprocessing import sequence\n",
        "from time import time\n",
        "\n",
        "# fix random seed for reproducibility\n",
        "\n",
        "start = time()\n",
        "model = Sequential()\n",
        "model.add(keras.Input(shape=(1024,1)))\n",
        "model.add(Conv1D(filters=32,\n",
        "                    kernel_size=7,\n",
        "                    strides=1,\n",
        "                    padding='same'))\n",
        "model.add(Conv1D(filters=16,\n",
        "                    kernel_size=9,\n",
        "                    strides=1,\n",
        "                    padding='same'))\n",
        "# model.add(MaxPooling1D(pool_size= 16,\n",
        "                      #  padding='same'))\n",
        "model.add(Conv1D(filters=32, kernel_size=5, padding='same', activation='relu'))\n",
        "# model.add(MaxPooling1D(pool_size=8))\n",
        "model.add(LSTM(100))\n",
        "model.add(Dense(5, activation='softmax'))\n",
        "model.compile(loss='categorical_crossentropy', optimizer='adam', metrics=['CategoricalAccuracy'])\n",
        "model.build((1024,1,1))\n",
        "print(model.summary())\n",
        "# model.fit(x_train1, y_train1, epochs=25, batch_size=64)\n",
        "early_stopping = EarlyStopping(monitor='val_loss', patience=30, verbose=2)\n",
        "history_m = model.fit(x_train1,y_train1, epochs=1, validation_split =0.2, callbacks = [early_stopping], batch_size = 100, shuffle = True)\n",
        "t=time()-start\n",
        "print('Total training time:', t)\n",
        "history_m.history['training_time']=t\n",
        "# Final evaluation of the model\n",
        "scores = model.evaluate(x_test1, y_test1, verbose=0)\n",
        "print(\"Accuracy: %.2f%%\" % (scores[1]*100))"
      ]
    },
    {
      "cell_type": "markdown",
      "metadata": {
        "id": "6uhhaOkOVAGX"
      },
      "source": [
        "## Result"
      ]
    },
    {
      "cell_type": "code",
      "execution_count": null,
      "metadata": {
        "id": "i7CeuLb9RiRt"
      },
      "outputs": [],
      "source": [
        "from tensorflow import keras\n",
        "model1 = keras.models.load_model(\"lstm_disease80.h5\")"
      ]
    },
    {
      "cell_type": "code",
      "execution_count": null,
      "metadata": {
        "colab": {
          "base_uri": "https://localhost:8080/",
          "height": 440
        },
        "id": "eKvOitC-RTFM",
        "outputId": "89dbdd19-45cf-4e4f-c0e2-31b777d03bca"
      },
      "outputs": [
        {
          "name": "stdout",
          "output_type": "stream",
          "text": [
            "[[1728   36   29   32   78]\n",
            " [  37 1743   44   33   55]\n",
            " [  48   39 1732   60   74]\n",
            " [  11    2   15 1824   40]\n",
            " [  59   40   56   75 1668]]\n",
            "Acc 0.909709144172421\n",
            "Precision [0.91768455 0.93709677 0.92324094 0.90118577 0.87101828]\n",
            "Recall [0.90803994 0.91161088 0.88684076 0.9640592  0.87881981]\n"
          ]
        },
        {
          "data": {
            "text/plain": [
              "<sklearn.metrics._plot.confusion_matrix.ConfusionMatrixDisplay at 0x7faf62650750>"
            ]
          },
          "execution_count": 8,
          "metadata": {},
          "output_type": "execute_result"
        },
        {
          "data": {
            "image/png": "[encoded data removed]",
            "text/plain": [
              "<Figure size 432x288 with 2 Axes>"
            ]
          },
          "metadata": {},
          "output_type": "display_data"
        }
      ],
      "source": [
        "from sklearn import metrics\n",
        " \n",
        "def analysis(actual, predict, classes):   \n",
        "    real = np.zeros(actual.shape[0], dtype=int) \n",
        "    pred = np.zeros(predict.shape[0], dtype=int)            \n",
        "    \n",
        "    for i in range(predict.shape[0]):\n",
        "        real[i] = np.argmax(actual[i])  \n",
        "        pred[i] = np.argmax(predict[i]) \n",
        " \n",
        "    param = {'matrix': metrics.confusion_matrix(real, pred),           \n",
        "            'kappa': metrics.cohen_kappa_score(real, pred),      \n",
        "            'accuracy': metrics.accuracy_score(real, pred),         \n",
        "            }\n",
        "    precision = []\n",
        "    recall = []\n",
        "    for i in range(classes):\n",
        "        precision.append(param['matrix'][i,i] / sum(param['matrix'][:, i]))               \n",
        "        recall.append(param['matrix'][i,i] / sum(param['matrix'][i, :]))         \n",
        "    param['precision'] = np.array(precision)   \n",
        "    param['recall'] = np.array(recall)  \n",
        "\n",
        "    return param, real, pred  \n",
        "\n",
        "pred = model1.predict(x_test1)  \n",
        "#(loss, acc) = resnet_model.evaluate(x_test1, y_test1)   \n",
        "\n",
        "results, real, prediction = analysis(y_test1, pred, 5)        \n",
        "print(results['matrix'])\n",
        "print(\"Acc\",results['accuracy'])\n",
        "print(\"Precision\",results['precision'])\n",
        "print(\"Recall\",results['recall'])\n",
        "\n",
        "\n",
        "labels =  [\"narco\",\"ins\",\"nfle\",\"plm\",\"rbd\"]\n",
        "\n",
        "\n",
        "disp = metrics.ConfusionMatrixDisplay(confusion_matrix=results['matrix'], display_labels=labels)\n",
        "disp.plot()"
      ]
    },
    {
      "cell_type": "markdown",
      "metadata": {
        "id": "tii3rMntAxGv"
      },
      "source": [
        "# Disease Classification [Phase B]"
      ]
    },
    {
      "cell_type": "code",
      "execution_count": null,
      "metadata": {
        "id": "-Vtrfvb5A1oR"
      },
      "outputs": [],
      "source": [
        "from tensorflow import keras\n",
        "model1 = keras.models.load_model(\"my_h5_model_lstm_phaseB.h5\")\n",
        "bal_all = np.loadtxt('/content/drive/MyDrive/FYP/combine_classification/dataset/B_phases.csv', delimiter=',')"
      ]
    },
    {
      "cell_type": "code",
      "execution_count": null,
      "metadata": {
        "colab": {
          "base_uri": "https://localhost:8080/"
        },
        "id": "fxzUZOfrA9El",
        "outputId": "7feef89e-6b91-4904-e6b1-305e7610186b"
      },
      "outputs": [
        {
          "name": "stdout",
          "output_type": "stream",
          "text": [
            "(23895, 1024)\n",
            "(23895,)\n",
            "(23895, 1)\n",
            "1.0\n",
            "[0. 1. 0. 0. 0.]\n"
          ]
        }
      ],
      "source": [
        "x_bal = bal_all[:,0:1024]\n",
        "y_disease = bal_all[:,-1]\n",
        "print(np.shape(x_bal))\n",
        "print(np.shape(y_disease))\n",
        "y_disease=y_disease.reshape(-1,1 )\n",
        "print(np.shape(y_disease))\n",
        "\n",
        "\n",
        "from sklearn.model_selection import train_test_split \n",
        "from sklearn.preprocessing import OneHotEncoder\n",
        "\n",
        "print(y_disease[8500,0])\n",
        "enc = OneHotEncoder(handle_unknown='ignore')\n",
        "# 2. FIT\n",
        "enc.fit(y_disease)\n",
        "\n",
        "# 3. Transform\n",
        "onehotlabels = enc.transform(y_disease).toarray()\n",
        "\n",
        "print(onehotlabels[8500])\n",
        "\n",
        "x_train1, x_test1, y_train1, y_test1 = train_test_split(x_bal, onehotlabels, test_size = 0.2, shuffle = True)"
      ]
    },
    {
      "cell_type": "code",
      "execution_count": null,
      "metadata": {
        "colab": {
          "base_uri": "https://localhost:8080/",
          "height": 496
        },
        "id": "vZfBOFCpBiIa",
        "outputId": "dc8503f3-1f85-43a3-9a91-78c14106310d"
      },
      "outputs": [
        {
          "name": "stdout",
          "output_type": "stream",
          "text": [
            "[[880   0  33   0   9]\n",
            " [ 12 960  11   2   7]\n",
            " [ 20   0 886   0  61]\n",
            " [  6   9  27 886  21]\n",
            " [  7   0  25   3 914]]\n",
            "Acc 0.9470600544046872\n",
            "Precision [0.95135135 0.99071207 0.90224033 0.99438833 0.90316206]\n",
            "Recall [0.95444685 0.96774194 0.91623578 0.93361433 0.96311907]\n",
            "150/150 [==============================] - 3s 15ms/step - loss: 0.1524 - categorical_accuracy: 0.9471\n",
            "Accuracy 94.70600485801697\n",
            "150/150 - 2s - 2s/epoch - 13ms/step\n"
          ]
        },
        {
          "data": {
            "image/png": "[encoded data removed]",
            "text/plain": [
              "<Figure size 432x288 with 2 Axes>"
            ]
          },
          "metadata": {},
          "output_type": "display_data"
        }
      ],
      "source": [
        "\n",
        "from sklearn import metrics\n",
        " \n",
        "def analysis(actual, predict, classes):   \n",
        "    real = np.zeros(actual.shape[0], dtype=int) \n",
        "    pred = np.zeros(predict.shape[0], dtype=int)            \n",
        "    \n",
        "    for i in range(predict.shape[0]):\n",
        "        real[i] = np.argmax(actual[i])  \n",
        "        pred[i] = np.argmax(predict[i]) \n",
        " \n",
        "    param = {'matrix': metrics.confusion_matrix(real, pred),           \n",
        "            'kappa': metrics.cohen_kappa_score(real, pred),      \n",
        "            'accuracy': metrics.accuracy_score(real, pred),         \n",
        "            }\n",
        "    precision = []\n",
        "    recall = []\n",
        "    for i in range(classes):\n",
        "        precision.append(param['matrix'][i,i] / sum(param['matrix'][:, i]))               \n",
        "        recall.append(param['matrix'][i,i] / sum(param['matrix'][i, :]))         \n",
        "    param['precision'] = np.array(precision)   \n",
        "    param['recall'] = np.array(recall)  \n",
        "\n",
        "    return param, real, pred  \n",
        "\n",
        "pred = model1.predict(x_test1)  \n",
        "#(loss, acc) = resnet_model.evaluate(x_test1, y_test1)   \n",
        "\n",
        "results, real, prediction = analysis(y_test1, pred, 5)        \n",
        "print(results['matrix'])\n",
        "print(\"Acc\",results['accuracy'])\n",
        "print(\"Precision\",results['precision'])\n",
        "print(\"Recall\",results['recall'])\n",
        "(loss, acc) = model1.evaluate(x_test1, y_test1)\n",
        "print(\"Accuracy\", acc*100)\n",
        "\n",
        "labels =  [\"narco\",\"ins\",\"nfle\",\"plm\",\"rbd\"]\n",
        "\n",
        "disp = metrics.ConfusionMatrixDisplay(confusion_matrix=results['matrix'], display_labels=labels)\n",
        "disp.plot()\n",
        "\n",
        "\n",
        "import matplotlib.pyplot as plt\n",
        "from sklearn import metrics\n",
        "\n",
        "prob = model1.predict(x_test1,verbose = 2)\n",
        "pred = (prob > 0.5).astype(\"int32\")\n",
        "\n",
        "\n",
        "#(loss, acc) = conv_model.evaluate(x_test1, y_test1)\n",
        "#print(\"Accuracy\", acc*100)"
      ]
    },
    {
      "cell_type": "markdown",
      "metadata": {
        "id": "ivQ8EKVpA2Ix"
      },
      "source": [
        "# Disease Classification [Phase A]"
      ]
    },
    {
      "cell_type": "code",
      "execution_count": null,
      "metadata": {
        "id": "C0iZ0JSOA8tE"
      },
      "outputs": [],
      "source": [
        "from tensorflow import keras\n",
        "model = tf.keras.models.load_model('/content/drive/MyDrive/ML/Disease_classification/Dhruvi/LSTM/A/model_v1.h5')\n",
        "bal_all = np.loadtxt('/content/drive/MyDrive/FYP/combine_classification/dataset/A_phases.csv', delimiter=',')"
      ]
    },
    {
      "cell_type": "code",
      "execution_count": null,
      "metadata": {
        "id": "9pXWiLHsIAoa"
      },
      "outputs": [],
      "source": [
        "x_bal = bal_all[:,0:1024]\n",
        "y_disease = bal_all[:,-1]\n",
        "print(np.shape(x_bal))\n",
        "print(np.shape(y_disease))\n",
        "y_disease=y_disease.reshape(-1,1 )\n",
        "print(np.shape(y_disease))\n",
        "\n",
        "\n",
        "from sklearn.model_selection import train_test_split \n",
        "from sklearn.preprocessing import OneHotEncoder\n",
        "\n",
        "print(y_disease[8500,0])\n",
        "enc = OneHotEncoder(handle_unknown='ignore')\n",
        "# 2. FIT\n",
        "enc.fit(y_disease)\n",
        "\n",
        "# 3. Transform\n",
        "onehotlabels = enc.transform(y_disease).toarray()\n",
        "\n",
        "print(onehotlabels[8500])\n",
        "\n",
        "x_train1, x_test1, y_train1, y_test1 = train_test_split(x_bal, onehotlabels, test_size = 0.2, shuffle = True)"
      ]
    },
    {
      "cell_type": "code",
      "execution_count": null,
      "metadata": {
        "id": "DxpQ4COzIIUo"
      },
      "outputs": [],
      "source": [
        "\n",
        "from sklearn import metrics\n",
        " \n",
        "def analysis(actual, predict, classes):   \n",
        "    real = np.zeros(actual.shape[0], dtype=int) \n",
        "    pred = np.zeros(predict.shape[0], dtype=int)            \n",
        "    \n",
        "    for i in range(predict.shape[0]):\n",
        "        real[i] = np.argmax(actual[i])  \n",
        "        pred[i] = np.argmax(predict[i]) \n",
        " \n",
        "    param = {'matrix': metrics.confusion_matrix(real, pred),           \n",
        "            'kappa': metrics.cohen_kappa_score(real, pred),      \n",
        "            'accuracy': metrics.accuracy_score(real, pred),         \n",
        "            }\n",
        "    precision = []\n",
        "    recall = []\n",
        "    for i in range(classes):\n",
        "        precision.append(param['matrix'][i,i] / sum(param['matrix'][:, i]))               \n",
        "        recall.append(param['matrix'][i,i] / sum(param['matrix'][i, :]))         \n",
        "    param['precision'] = np.array(precision)   \n",
        "    param['recall'] = np.array(recall)  \n",
        "\n",
        "    return param, real, pred  \n",
        "\n",
        "pred = model1.predict(x_test1)  \n",
        "#(loss, acc) = resnet_model.evaluate(x_test1, y_test1)   \n",
        "\n",
        "results, real, prediction = analysis(y_test1, pred, 5)        \n",
        "print(results['matrix'])\n",
        "print(\"Acc\",results['accuracy'])\n",
        "print(\"Precision\",results['precision'])\n",
        "print(\"Recall\",results['recall'])\n",
        "(loss, acc) = model1.evaluate(x_test1, y_test1)\n",
        "print(\"Accuracy\", acc*100)\n",
        "\n",
        "labels =  [\"narco\",\"ins\",\"nfle\",\"plm\",\"rbd\"]\n",
        "\n",
        "disp = metrics.ConfusionMatrixDisplay(confusion_matrix=results['matrix'], display_labels=labels)\n",
        "disp.plot()\n",
        "\n",
        "\n",
        "import matplotlib.pyplot as plt\n",
        "from sklearn import metrics\n",
        "\n",
        "prob = model1.predict(x_test1,verbose = 2)\n",
        "pred = (prob > 0.5).astype(\"int32\")"
      ]
    },
    {
      "cell_type": "markdown",
      "metadata": {
        "id": "DoL8I7Vv6eEr"
      },
      "source": [
        "# CAP phase classification"
      ]
    },
    {
      "cell_type": "markdown",
      "metadata": {
        "id": "zHXDtHzTFHUo"
      },
      "source": [
        "## Results"
      ]
    },
    {
      "cell_type": "code",
      "execution_count": null,
      "metadata": {
        "id": "eUm8csWofI1u"
      },
      "outputs": [],
      "source": [
        "# Healthy\n",
        "conv_model = tf.keras.models.load_model('/content/drive/MyDrive/FYP/CAP_dis/healthy/model_v4.h5')\n",
        "history=np.load('/content/drive/MyDrive/FYP/CAP_dis/healthy/ver4_history.npy',allow_pickle='TRUE').item()\n",
        "x_test1 = np.loadtxt('/content/drive/MyDrive/FYP/CAP_dis/healthy/xtest_data_ver4.csv', delimiter=',')\n",
        "y_test1 = np.loadtxt('/content/drive/MyDrive/FYP/CAP_dis/healthy/ytest_data_ver4.csv', delimiter=',')\n",
        "disease = \"Healthy\""
      ]
    },
    {
      "cell_type": "code",
      "execution_count": null,
      "metadata": {
        "id": "R_wcT7xmaqGI"
      },
      "outputs": [],
      "source": [
        "# Narcolepsy\n",
        "conv_model = tf.keras.models.load_model('/content/drive/MyDrive/FYP/CAP_dis/narco/model_v1.h5')\n",
        "history=np.load('/content/drive/MyDrive/FYP/CAP_dis/narco/ver1_history.npy',allow_pickle='TRUE').item()\n",
        "x_test1 = np.loadtxt('/content/drive/MyDrive/FYP/CAP_dis/narco/xtest_data_ver1.csv', delimiter=',')\n",
        "y_test1 = np.loadtxt('/content/drive/MyDrive/FYP/CAP_dis/narco/ytest_data_ver1.csv', delimiter=',')\n",
        "disease = \"Narcolepsy\""
      ]
    },
    {
      "cell_type": "code",
      "execution_count": null,
      "metadata": {
        "id": "8q8eP_hLa73K"
      },
      "outputs": [],
      "source": [
        "# PLM\n",
        "conv_model = tf.keras.models.load_model('/content/drive/MyDrive/FYP/CAP_dis/plm/model_v1.h5')\n",
        "history=np.load('/content/drive/MyDrive/FYP/CAP_dis/plm/ver1_history.npy',allow_pickle='TRUE').item()\n",
        "x_test1 = np.loadtxt('/content/drive/MyDrive/FYP/CAP_dis/plm/xtest_data_ver1.csv', delimiter=',')\n",
        "y_test1 = np.loadtxt('/content/drive/MyDrive/FYP/CAP_dis/plm/ytest_data_ver1.csv', delimiter=',')\n",
        "disease = \"PLM\""
      ]
    },
    {
      "cell_type": "code",
      "execution_count": null,
      "metadata": {
        "id": "lljnYKfHcvJ_"
      },
      "outputs": [],
      "source": [
        "# NFLE\n",
        "conv_model = tf.keras.models.load_model('/content/drive/MyDrive/FYP/CAP_dis/nfle/model_v1.h5')\n",
        "history=np.load('/content/drive/MyDrive/FYP/CAP_dis/nfle/ver1_history.npy',allow_pickle='TRUE').item()\n",
        "x_test1 = np.loadtxt('/content/drive/MyDrive/FYP/CAP_dis/nfle/xtest_data_ver1.csv', delimiter=',')\n",
        "y_test1 = np.loadtxt('/content/drive/MyDrive/FYP/CAP_dis/nfle/ytest_data_ver1.csv', delimiter=',')\n",
        "disease = \"NFLE\""
      ]
    },
    {
      "cell_type": "code",
      "execution_count": null,
      "metadata": {
        "id": "tnD9v3vUaRMz"
      },
      "outputs": [],
      "source": [
        "# Insomnia\n",
        "conv_model = tf.keras.models.load_model('/content/drive/MyDrive/FYP/CAP_dis/ins/model_v3.h5')\n",
        "history=np.load('/content/drive/MyDrive/FYP/CAP_dis/ins/ver3_history.npy',allow_pickle='TRUE').item()\n",
        "x_test1 = np.loadtxt('/content/drive/MyDrive/FYP/CAP_dis/ins/xtest_data_ver3.csv', delimiter=',')\n",
        "y_test1 = np.loadtxt('/content/drive/MyDrive/FYP/CAP_dis/ins/ytest_data_ver3.csv', delimiter=',')\n",
        "disease = \"Insomnia\""
      ]
    },
    {
      "cell_type": "code",
      "execution_count": null,
      "metadata": {
        "id": "SgutRQGvYlCr"
      },
      "outputs": [],
      "source": [
        "# RBD\n",
        "conv_model = tf.keras.models.load_model('/content/drive/MyDrive/FYP/CAP_dis/rbd/model_v5.h5')\n",
        "history=np.load('/content/drive/MyDrive/FYP/CAP_dis/rbd/ver5_history.npy',allow_pickle='TRUE').item()\n",
        "x_test1 = np.loadtxt('/content/drive/MyDrive/FYP/CAP_dis/rbd/xtest_data_ver5.csv', delimiter=',')\n",
        "y_test1 = np.loadtxt('/content/drive/MyDrive/FYP/CAP_dis/rbd/ytest_data_ver5.csv', delimiter=',')\n",
        "disease = \"RBD\""
      ]
    },
    {
      "cell_type": "code",
      "execution_count": null,
      "metadata": {
        "colab": {
          "base_uri": "https://localhost:8080/",
          "height": 1000
        },
        "id": "pitDXPpw9H8i",
        "outputId": "b0663cdc-4e22-45b9-a7ae-d989f543178a"
      },
      "outputs": [
        {
          "name": "stdout",
          "output_type": "stream",
          "text": [
            "dict_keys(['loss', 'accuracy', 'val_loss', 'val_accuracy', 'training_time'])\n"
          ]
        },
        {
          "data": {
            "image/png": "[encoded data removed]",
            "text/plain": [
              "<Figure size 432x288 with 1 Axes>"
            ]
          },
          "metadata": {},
          "output_type": "display_data"
        },
        {
          "data": {
            "image/png": "[encoded data removed]",
            "text/plain": [
              "<Figure size 432x288 with 1 Axes>"
            ]
          },
          "metadata": {},
          "output_type": "display_data"
        },
        {
          "name": "stdout",
          "output_type": "stream",
          "text": [
            "RBD\n",
            "59/59 - 0s - 245ms/epoch - 4ms/step\n",
            "Accuracy: 0.734157\n",
            "Specificity: 0.714569\n",
            "Precision: 0.757327\n",
            "Sensitivity: 0.691649\n",
            "F1 score: 0.722999\n",
            "Cohens kappa: 0.468457\n",
            "ROC AUC: 0.803688\n"
          ]
        },
        {
          "data": {
            "text/plain": [
              "<sklearn.metrics._plot.confusion_matrix.ConfusionMatrixDisplay at 0x7fdf17b6b2d0>"
            ]
          },
          "execution_count": 13,
          "metadata": {},
          "output_type": "execute_result"
        },
        {
          "data": {
            "image/png": "[encoded data removed]",
            "text/plain": [
              "<Figure size 432x288 with 2 Axes>"
            ]
          },
          "metadata": {},
          "output_type": "display_data"
        }
      ],
      "source": [
        "## GRAPHS FROM RESTORE MODEL\n",
        "import matplotlib.pyplot as plt\n",
        "from sklearn import metrics\n",
        "\n",
        "\n",
        "print(disease)\n",
        "\n",
        "prob = conv_model.predict(x_test1,verbose = 2)\n",
        "pred = (prob > 0.5).astype(\"int32\")\n",
        "\n",
        "\n",
        "#(loss, acc) = conv_model.evaluate(x_test1, y_test1)\n",
        "#print(\"Accuracy\", acc*100)\n",
        "\n",
        "\n",
        "# reduce to 1d array\n",
        "yhat_probs = prob[:, 0]\n",
        "yhat_classes = pred[:, 0]\n",
        "\n",
        "cm=metrics.confusion_matrix(y_test1,pred)\n",
        "# accuracy: (tp + tn) / (p + n)\n",
        "accuracy = metrics.accuracy_score(y_test1,pred)\n",
        "print('Accuracy: %f' % accuracy)\n",
        "# specificity = tn(tn+fp)\n",
        "specificity = cm[0,0]/(cm[0,0]+cm[1,0])\n",
        "print('Specificity: %f' % specificity)\n",
        "# precision tp / (tp + fp)\n",
        "precision = metrics.precision_score(y_test1,pred)\n",
        "print('Precision: %f' % precision)\n",
        "# recall: tp / (tp + fn)\n",
        "recall = metrics.recall_score(y_test1, pred)\n",
        "print('Sensitivity: %f' % recall)\n",
        "# f1: 2 tp / (2 tp + fp + fn)\n",
        "f1 = metrics.f1_score(y_test1, pred)\n",
        "print('F1 score: %f' % f1)\n",
        "# kappa\n",
        "kappa = metrics.cohen_kappa_score(y_test1, pred)\n",
        "print('Cohens kappa: %f' % kappa)\n",
        "# ROC AUC\n",
        "auc = metrics.roc_auc_score(y_test1, prob)\n",
        "print('ROC AUC: %f' % auc)\n",
        "\n",
        "labels=[\"B\", \"A\"]\n",
        "cm=metrics.confusion_matrix(y_test1,pred)\n",
        "disp = metrics.ConfusionMatrixDisplay(confusion_matrix=cm, display_labels=labels)\n",
        "disp.plot()"
      ]
    },
    {
      "cell_type": "code",
      "execution_count": null,
      "metadata": {
        "colab": {
          "base_uri": "https://localhost:8080/",
          "height": 318
        },
        "id": "NqQY97279K2f",
        "outputId": "fcf63ce5-6ea6-4ead-959c-034474a47e1e"
      },
      "outputs": [
        {
          "name": "stdout",
          "output_type": "stream",
          "text": [
            "Disese: RBD\n",
            "Actual = B, Predection = B\n"
          ]
        },
        {
          "data": {
            "image/png": "[encoded data removed]",
            "text/plain": [
              "<Figure size 432x288 with 1 Axes>"
            ]
          },
          "metadata": {},
          "output_type": "display_data"
        }
      ],
      "source": [
        "labels=[\"B\", \"A\"]\n",
        "index=4\n",
        "#pred = new_model.predict(x_test1)\n",
        "real=y_test1\n",
        "prediction=0\n",
        "if (pred[index]>=0.5): prediction=1\n",
        "act=labels[int(real[index])]\n",
        "pr=labels[prediction]\n",
        "print(\"Disease: \" + disease)\n",
        "print (\"Actual = \" + act + \", Predection = \" + pr)\n",
        "plt.plot(np.arange(1024)/512 ,x_test1[index,:])\n",
        "plt.xlabel(\"time duration in sec\")\n",
        "plt.ylabel(\"Amplitude of signal\")\n",
        "plt.ylim([-100, 100])\n",
        "plt.show()"
      ]
    },
    {
      "cell_type": "code",
      "execution_count": null,
      "metadata": {
        "colab": {
          "base_uri": "https://localhost:8080/",
          "height": 312
        },
        "id": "ByeWU_I39cKk",
        "outputId": "37e6be66-2b8f-45ff-dfb4-979d37d45695"
      },
      "outputs": [
        {
          "data": {
            "text/plain": [
              "Text(0.5, 0, 'False positive rate')"
            ]
          },
          "execution_count": 15,
          "metadata": {},
          "output_type": "execute_result"
        },
        {
          "data": {
            "image/png": "[encoded data removed]",
            "text/plain": [
              "<Figure size 432x288 with 1 Axes>"
            ]
          },
          "metadata": {},
          "output_type": "display_data"
        }
      ],
      "source": [
        "from sklearn.metrics import roc_curve\n",
        "from sklearn.metrics import auc\n",
        "y_pred_keras = conv_model.predict(x_test1).ravel()\n",
        "fpr_keras, tpr_keras, thresholds_keras = roc_curve(y_test1, y_pred_keras)\n",
        "auc_keras = auc(fpr_keras, tpr_keras)\n",
        "plt.title(disease)\n",
        "plt.plot(fpr_keras, tpr_keras, label='ROC curve')\n",
        "plt.fill_between(fpr_keras, tpr_keras, 0, color='blue', alpha=.1, label='AUC = {:.3f}'.format(auc_keras))\n",
        "plt.axis([0, 1, 0, 1])\n",
        "plt.grid()\n",
        "plt.legend(loc='lower right')\n",
        "plt.ylabel('True positive rate')\n",
        "plt.xlabel('False positive rate')"
      ]
    },
    {
      "cell_type": "code",
      "execution_count": null,
      "metadata": {
        "id": "UHTZIdNI-65n"
      },
      "outputs": [],
      "source": [
        ""
      ]
    }
  ],
  "metadata": {
    "accelerator": "GPU",
    "colab": {
      "collapsed_sections": [],
      "name": "Sleep Disorder Classification",
      "toc_visible": true,
      "provenance": []
    },
    "kernelspec": {
      "display_name": "Python 3",
      "name": "python3"
    },
    "language_info": {
      "name": "python"
    }
  },
  "nbformat": 4,
  "nbformat_minor": 0
}